{
 "cells": [
  {
   "cell_type": "code",
   "execution_count": 2,
   "id": "4fe34770",
   "metadata": {},
   "outputs": [],
   "source": [
    "import numpy as np\n",
    "import pandas as pd\n",
    "import scipy.stats as stats\n",
    "\n",
    "import matplotlib.pyplot as plt\n",
    "from matplotlib import gridspec\n",
    "plt.style.use('ggplot')\n",
    "plt.rcParams.update({'font.size': 16})\n",
    "plt.rcParams['savefig.dpi'] = 300\n",
    "plt.rcParams['axes.facecolor'] = 'white'\n",
    "plt.rcParams['grid.color'] = 'lightgrey'"
   ]
  },
  {
   "cell_type": "code",
   "execution_count": 16,
   "id": "08a49757",
   "metadata": {},
   "outputs": [],
   "source": [
    "lst = ['h2','h3','hh2','hh3']"
   ]
  },
  {
   "cell_type": "code",
   "execution_count": 35,
   "id": "50508e9e",
   "metadata": {},
   "outputs": [],
   "source": [
    "df1 = pd.read_csv('/home/allen/Galva/caseStudy/Spark/spark-case-study/peer_extension/images/hh2.csv')"
   ]
  },
  {
   "cell_type": "code",
   "execution_count": 36,
   "id": "7ea3f521",
   "metadata": {},
   "outputs": [
    {
     "data": {
      "text/plain": [
       "Index(['Unnamed: 0', 'Hypothesis', 'Count', 'Average', 'Standev', 'Max', 'Min',\n",
       "       'Sig Count'],\n",
       "      dtype='object')"
      ]
     },
     "execution_count": 36,
     "metadata": {},
     "output_type": "execute_result"
    }
   ],
   "source": [
    "df1.columns"
   ]
  },
  {
   "cell_type": "code",
   "execution_count": 37,
   "id": "f47d96a2",
   "metadata": {},
   "outputs": [],
   "source": [
    "df1.rename(columns = {'Unnamed: 0':'Hypothesis'}, inplace=True)\n",
    "df1a = df1.round(2)"
   ]
  },
  {
   "cell_type": "code",
   "execution_count": 38,
   "id": "d161ca00",
   "metadata": {},
   "outputs": [
    {
     "data": {
      "text/html": [
       "<div>\n",
       "<style scoped>\n",
       "    .dataframe tbody tr th:only-of-type {\n",
       "        vertical-align: middle;\n",
       "    }\n",
       "\n",
       "    .dataframe tbody tr th {\n",
       "        vertical-align: top;\n",
       "    }\n",
       "\n",
       "    .dataframe thead th {\n",
       "        text-align: right;\n",
       "    }\n",
       "</style>\n",
       "<table border=\"1\" class=\"dataframe\">\n",
       "  <thead>\n",
       "    <tr style=\"text-align: right;\">\n",
       "      <th></th>\n",
       "      <th>Hypothesis</th>\n",
       "      <th>Hypothesis</th>\n",
       "      <th>Count</th>\n",
       "      <th>Average</th>\n",
       "      <th>Standev</th>\n",
       "      <th>Max</th>\n",
       "      <th>Min</th>\n",
       "      <th>Sig Count</th>\n",
       "    </tr>\n",
       "  </thead>\n",
       "  <tbody>\n",
       "    <tr>\n",
       "      <th>0</th>\n",
       "      <td>0</td>\n",
       "      <td>Ho</td>\n",
       "      <td>7</td>\n",
       "      <td>3124.14</td>\n",
       "      <td>6606.76</td>\n",
       "      <td>19246</td>\n",
       "      <td>0</td>\n",
       "      <td>1</td>\n",
       "    </tr>\n",
       "    <tr>\n",
       "      <th>1</th>\n",
       "      <td>1</td>\n",
       "      <td>Ha</td>\n",
       "      <td>25962</td>\n",
       "      <td>949.23</td>\n",
       "      <td>7677.08</td>\n",
       "      <td>439147</td>\n",
       "      <td>0</td>\n",
       "      <td>246</td>\n",
       "    </tr>\n",
       "  </tbody>\n",
       "</table>\n",
       "</div>"
      ],
      "text/plain": [
       "  Hypothesis Hypothesis  Count  Average  Standev     Max  Min  Sig Count\n",
       "0          0         Ho      7  3124.14  6606.76   19246    0          1\n",
       "1          1         Ha  25962   949.23  7677.08  439147    0        246"
      ]
     },
     "execution_count": 38,
     "metadata": {},
     "output_type": "execute_result"
    }
   ],
   "source": [
    "df1a"
   ]
  },
  {
   "cell_type": "code",
   "execution_count": 34,
   "id": "84c6283b",
   "metadata": {},
   "outputs": [],
   "source": [
    "#df1a.to_csv('/home/allen/Galva/caseStudy/Spark/spark-case-study/peer_extension/images/hh1.csv')"
   ]
  },
  {
   "cell_type": "code",
   "execution_count": 39,
   "id": "37ff3dff",
   "metadata": {},
   "outputs": [],
   "source": [
    "df2 = pd.read_csv('/home/allen/Galva/caseStudy/Spark/spark-case-study/peer_extension/images/hh1.csv')"
   ]
  },
  {
   "cell_type": "code",
   "execution_count": 40,
   "id": "ffe56052",
   "metadata": {},
   "outputs": [
    {
     "data": {
      "text/html": [
       "<div>\n",
       "<style scoped>\n",
       "    .dataframe tbody tr th:only-of-type {\n",
       "        vertical-align: middle;\n",
       "    }\n",
       "\n",
       "    .dataframe tbody tr th {\n",
       "        vertical-align: top;\n",
       "    }\n",
       "\n",
       "    .dataframe thead th {\n",
       "        text-align: right;\n",
       "    }\n",
       "</style>\n",
       "<table border=\"1\" class=\"dataframe\">\n",
       "  <thead>\n",
       "    <tr style=\"text-align: right;\">\n",
       "      <th></th>\n",
       "      <th>Unnamed: 0</th>\n",
       "      <th>Hypothesis</th>\n",
       "      <th>Count</th>\n",
       "      <th>Average</th>\n",
       "      <th>Standev</th>\n",
       "      <th>Max</th>\n",
       "      <th>Min</th>\n",
       "      <th>Sig Count</th>\n",
       "    </tr>\n",
       "  </thead>\n",
       "  <tbody>\n",
       "    <tr>\n",
       "      <th>0</th>\n",
       "      <td>0</td>\n",
       "      <td>Ho</td>\n",
       "      <td>7</td>\n",
       "      <td>3124.14</td>\n",
       "      <td>6606.76</td>\n",
       "      <td>19246</td>\n",
       "      <td>0</td>\n",
       "      <td>1</td>\n",
       "    </tr>\n",
       "    <tr>\n",
       "      <th>1</th>\n",
       "      <td>1</td>\n",
       "      <td>Ha</td>\n",
       "      <td>25297</td>\n",
       "      <td>959.83</td>\n",
       "      <td>7756.50</td>\n",
       "      <td>439147</td>\n",
       "      <td>0</td>\n",
       "      <td>241</td>\n",
       "    </tr>\n",
       "  </tbody>\n",
       "</table>\n",
       "</div>"
      ],
      "text/plain": [
       "   Unnamed: 0 Hypothesis  Count  Average  Standev     Max  Min  Sig Count\n",
       "0           0         Ho      7  3124.14  6606.76   19246    0          1\n",
       "1           1         Ha  25297   959.83  7756.50  439147    0        241"
      ]
     },
     "execution_count": 40,
     "metadata": {},
     "output_type": "execute_result"
    }
   ],
   "source": [
    "df2"
   ]
  },
  {
   "cell_type": "code",
   "execution_count": 1,
   "id": "fff263a2",
   "metadata": {},
   "outputs": [],
   "source": [
    "by_hour ={' 13': {'yes': 28, 'no': 2316, 'nao': 2600}, ' 14': {'yes': 38, 'no': 2842, 'nao': 3856}, ' 15': {'yes': 64, 'no': 4173, 'nao': 6094}, ' 16': {'yes': 31, 'no': 1623, 'nao': 2105}, ' 17': {'yes': 40, 'no': 1913, 'nao': 3228}, ' 18': {'yes': 10, 'no': 878, 'nao': 1578}, ' 19': {'yes': 10, 'no': 697, 'nao': 1771}, ' 20': {'yes': 5, 'no': 444, 'nao': 1229}, ' 21': {'yes': 18, 'no': 1383, 'nao': 2394}, ' 22': {'yes': 30, 'no': 1209, 'nao': 2205}, ' 23': {'yes': 33, 'no': 965, 'nao': 1220}, ' 00': {'yes': 0, 'no': 3, 'nao': 15}, ' 01': {'yes': 5, 'no': 225, 'nao': 488}, ' 02': {'yes': 4, 'no': 174, 'nao': 208}, ' 03': {'yes': 5, 'no': 68, 'nao': 59}, ' 04': {'yes': 9, 'no': 463, 'nao': 575}, ' 05': {'yes': 1, 'no': 30, 'nao': 34}, ' 06': {'yes': 14, 'no': 1454, 'nao': 1471}, ' 07': {'yes': 23, 'no': 1988, 'nao': 1980}, ' 08': {'yes': 28, 'no': 2254, 'nao': 2117}, ' 09': {'yes': 21, 'no': 2113, 'nao': 2454}, ' 10': {'yes': 27, 'no': 2241, 'nao': 2423}, ' 11': {'yes': 40, 'no': 2131, 'nao': 2326}, ' 12': {'yes': 36, 'no': 1954, 'nao': 2373}}\n"
   ]
  },
  {
   "cell_type": "code",
   "execution_count": 3,
   "id": "75428515",
   "metadata": {},
   "outputs": [
    {
     "data": {
      "image/png": "[encoded data removed]",
      "text/plain": [
       "<Figure size 432x288 with 1 Axes>"
      ]
     },
     "metadata": {},
     "output_type": "display_data"
    },
    {
     "data": {
      "text/plain": [
       "<Figure size 576x720 with 0 Axes>"
      ]
     },
     "metadata": {},
     "output_type": "display_data"
    }
   ],
   "source": [
    "lst=[]\n",
    "for k,v in by_hour.items():\n",
    "    k_=int(k)\n",
    "    c=list(v.values())\n",
    "    lst.append((k_,c[0]))\n",
    "lst.sort(key = lambda x: x[0])\n",
    "\n",
    "x_val = [i[0] for i in lst]\n",
    "y_val = [i[1] for i in lst]\n",
    "plt.title('Hourly Counts: Possibly SensitiveTweets')\n",
    "plt.xlabel('Hour')\n",
    "plt.ylabel('Number of Tweets')\n",
    "plt.plot(x_val,y_val)\n",
    "plt.plot(x_val,y_val, 'or')\n",
    "plt.figure(figsize=(8,10))\n",
    "plt.show()"
   ]
  },
  {
   "cell_type": "code",
   "execution_count": null,
   "id": "02100ccf",
   "metadata": {},
   "outputs": [],
   "source": []
  }
 ],
 "metadata": {
  "kernelspec": {
   "display_name": "Python 3",
   "language": "python",
   "name": "python3"
  },
  "language_info": {
   "codemirror_mode": {
    "name": "ipython",
    "version": 3
   },
   "file_extension": ".py",
   "mimetype": "text/x-python",
   "name": "python",
   "nbconvert_exporter": "python",
   "pygments_lexer": "ipython3",
   "version": "3.8.2"
  }
 },
 "nbformat": 4,
 "nbformat_minor": 5
}
