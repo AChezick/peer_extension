{
 "cells": [
  {
   "cell_type": "code",
   "execution_count": 1,
   "metadata": {},
   "outputs": [],
   "source": [
    "import pyspark as ps\n",
    "spark = ps.sql.SparkSession.builder \\\n",
    "            .master(\"local[6]\") \\\n",
    "            .appName(\"df case study\") \\\n",
    "            .getOrCreate()\n",
    "\n",
    "tweets_df = spark.read.json('../data/french_tweets.json').sample(False, 0.2, seed =25)"
   ]
  },
  {
   "cell_type": "code",
   "execution_count": 2,
   "metadata": {},
   "outputs": [
    {
     "name": "stdout",
     "output_type": "stream",
     "text": [
      "{0: 'contributors', 1: 'coordinates', 2: 'created_at', 3: 'display_text_range', 4: 'entities', 5: 'extended_entities', 6: 'extended_tweet', 7: 'favorite_count', 8: 'favorited', 9: 'filter_level'}\n"
     ]
    }
   ],
   "source": [
    "dicta={}\n",
    "\n",
    "for i in range(10):\n",
    "    s=str(tweets_df[i])\n",
    "    s=s.strip('\"Column<b')\n",
    "    s=s.strip(\"'>'\")\n",
    "    dicta[i]=s\n",
    "print(dicta)"
   ]
  },
  {
   "cell_type": "code",
   "execution_count": 4,
   "metadata": {},
   "outputs": [],
   "source": [
    "#Here to\n",
    "import numpy as np\n",
    "import pandas as pd\n",
    "import scipy.stats as stats\n",
    "\n",
    "import matplotlib.pyplot as plt\n",
    "from matplotlib import gridspec\n",
    "plt.style.use('ggplot')\n",
    "plt.rcParams.update({'font.size': 16})\n",
    "plt.rcParams['savefig.dpi'] = 300\n",
    "plt.rcParams['axes.facecolor'] = 'white'\n",
    "plt.rcParams['grid.color'] = 'lightgrey'\n",
    "# docker start sparkbook\n",
    "import pyspark as ps\n",
    "\n",
    "spark = (ps.sql.SparkSession.builder \n",
    "        .master(\"local[6]\") \n",
    "        .appName(\"case study\") \n",
    "        .getOrCreate()\n",
    "        )\n",
    "sc = spark.sparkContext"
   ]
  },
  {
   "cell_type": "code",
   "execution_count": 5,
   "metadata": {},
   "outputs": [],
   "source": [
    "df_json = spark.read.json('../data/french_tweets.json')\n",
    "\n",
    "# create a temporary table for spark.sql queries\n",
    "df_json.createOrReplaceTempView('temp1')\n",
    "\n",
    "# possibly sensitive results for all quoted_status\n",
    "q1 = spark.sql(\n",
    "'''\n",
    "SELECT created_at, possibly_sensitive\n",
    "FROM temp1; \n",
    "'''\n",
    ").collect()"
   ]
  },
  {
   "cell_type": "code",
   "execution_count": 21,
   "metadata": {},
   "outputs": [],
   "source": [
    "q2 = spark.sql('''\n",
    "SELECT lang , text,created_at, possibly_sensitive, quoted_status.favorite_count\n",
    "FROM temp1\n",
    "WHERE lang = 'en' and possibly_sensitive = \"True\";\n",
    "''').collect()\n",
    "\n",
    "# An Ananlysis of the most favorited tweets that were sensitive and in english reveal Porn, some suspended accounts, numerous mislabeled (i.e. wood, perhaps as a buzz word? \n",
    "# "
   ]
  },
  {
   "cell_type": "code",
   "execution_count": 48,
   "metadata": {},
   "outputs": [
    {
     "data": {
      "text/plain": [
       "[Row(lang='en', text='#RDC stop usurpation @MinakuAubin @Evebazaiba @LUBAYAMwenCongo @AdamBombole @fatshi13 @DSESANGA #CENCO @mashanubian… https://t.co/qxghYKgApK', created_at='Thu Apr 27 08:01:10 +0000 2017', possibly_sensitive=True, favorite_count=None),\n",
       " Row(lang='en', text=\"I'm at Le Millenaire 2 in paris https://t.co/mXb9DAtPOq\", created_at='Thu Apr 27 08:03:34 +0000 2017', possibly_sensitive=True, favorite_count=None),\n",
       " Row(lang='en', text='Give the youth a platform and they will talk - @JemilahMahmood \\nAbout us, with us \\n#youthcompact https://t.co/fHSdUyqkKD', created_at='Thu Apr 27 08:06:10 +0000 2017', possibly_sensitive=True, favorite_count=None),\n",
       " Row(lang='en', text='#RDC stop usurpation @fabricepuela @SaveTheCongo @NkoyJoseph @tresinsolent @BogangaLisanga @OlivierKamitatu… https://t.co/8a3dUr4t5H', created_at='Thu Apr 27 08:09:16 +0000 2017', possibly_sensitive=True, favorite_count=None),\n",
       " Row(lang='en', text='One night in ring #paris🇫🇷 @andrebenamou @ Ile-de-France, France https://t.co/uihvmBUmkO', created_at='Thu Apr 27 08:25:26 +0000 2017', possibly_sensitive=True, favorite_count=None),\n",
       " Row(lang='en', text='Just posted a photo @ MEAC MELUN https://t.co/fgqUmlJZ9Q', created_at='Thu Apr 27 08:27:24 +0000 2017', possibly_sensitive=True, favorite_count=None),\n",
       " Row(lang='en', text='Just posted a photo @ MEAC MELUN https://t.co/GQaEcahZRc', created_at='Thu Apr 27 08:36:45 +0000 2017', possibly_sensitive=True, favorite_count=None),\n",
       " Row(lang='en', text='Privileged to have presented @Federation work on youth and volunteering to the #iranredcrescent https://t.co/38YXR3tdKl', created_at='Thu Apr 27 08:50:10 +0000 2017', possibly_sensitive=True, favorite_count=None),\n",
       " Row(lang='en', text='Probably one of the best spiritual ways to pass away with God in your mind and on your tongue https://t.co/kLMT68rAIz', created_at='Thu Apr 27 08:56:41 +0000 2017', possibly_sensitive=True, favorite_count=0),\n",
       " Row(lang='en', text='Just posted a photo @ MEAC MELUN https://t.co/K92nMe6Ftp', created_at='Thu Apr 27 09:10:04 +0000 2017', possibly_sensitive=True, favorite_count=None)]"
      ]
     },
     "execution_count": 48,
     "metadata": {},
     "output_type": "execute_result"
    }
   ],
   "source": [
    "q2[59:69]"
   ]
  },
  {
   "cell_type": "code",
   "execution_count": 6,
   "metadata": {},
   "outputs": [],
   "source": [
    "q3 = spark.sql('''\n",
    "SELECT lang , text,created_at, possibly_sensitive, quoted_status.favorite_count, entities.media.type\n",
    "FROM temp1\n",
    "WHERE lang = 'en' and possibly_sensitive = \"True\";\n",
    "''').collect()\n",
    "\n",
    "# An Ananlysis of the most favorited tweets that were sensitive and in english reveal Porn, some suspended accounts, numerous mislabeled (i.e. wood, perhaps as a buzz word? \n",
    "# "
   ]
  },
  {
   "cell_type": "code",
   "execution_count": 7,
   "metadata": {},
   "outputs": [],
   "source": [
    "q4 = spark.sql('''\n",
    "SELECT lang , text,created_at, possibly_sensitive, quoted_status.favorite_count, entities.media.type\n",
    "FROM temp1\n",
    "WHERE lang = 'en';\n",
    "''').collect()\n",
    "\n",
    "# "
   ]
  },
  {
   "cell_type": "code",
   "execution_count": 47,
   "metadata": {},
   "outputs": [],
   "source": [
    "#Since n tweets is small , manual curation is possible \n",
    "# total_likes = 0\n",
    "# for item in q2:\n",
    "#     item_= str(item[-1])\n",
    "#     if item_ != 'None':\n",
    "#         print(item[1],item[-1], item[2])\n",
    "#         total_likes+=item[-1]"
   ]
  },
  {
   "cell_type": "code",
   "execution_count": null,
   "metadata": {},
   "outputs": [],
   "source": [
    "***4/16/21 @ 17:36 Since changing the sql searching , and knowing more on what quoted status means / and that it is different from\n",
    "    regular status ... tabling this for now "
   ]
  },
  {
   "cell_type": "code",
   "execution_count": 2,
   "metadata": {},
   "outputs": [
    {
     "ename": "NameError",
     "evalue": "name 'spark' is not defined",
     "output_type": "error",
     "traceback": [
      "\u001b[0;31m---------------------------------------------------------------------------\u001b[0m",
      "\u001b[0;31mNameError\u001b[0m                                 Traceback (most recent call last)",
      "\u001b[0;32m<ipython-input-2-df4a30c5ed1d>\u001b[0m in \u001b[0;36m<module>\u001b[0;34m\u001b[0m\n\u001b[0;32m----> 1\u001b[0;31m san = spark.sql('''\n\u001b[0m\u001b[1;32m      2\u001b[0m \u001b[0mSELECT\u001b[0m \u001b[0mpossibly_sensitive\u001b[0m\u001b[0;34m,\u001b[0m \u001b[0mquoted_status\u001b[0m\u001b[0;34m.\u001b[0m\u001b[0mfavorite_count\u001b[0m\u001b[0;34m,\u001b[0m \u001b[0mtemp1\u001b[0m\u001b[0;34m.\u001b[0m\u001b[0mentities\u001b[0m\u001b[0;34m.\u001b[0m\u001b[0mmedia\u001b[0m\u001b[0;34m.\u001b[0m\u001b[0mtype\u001b[0m\u001b[0;34m\u001b[0m\u001b[0;34m\u001b[0m\u001b[0m\n\u001b[1;32m      3\u001b[0m \u001b[0mFROM\u001b[0m \u001b[0mtemp1\u001b[0m\u001b[0;34m\u001b[0m\u001b[0;34m\u001b[0m\u001b[0m\n\u001b[1;32m      4\u001b[0m \u001b[0mWHERE\u001b[0m \u001b[0mpossibly_sensitive\u001b[0m\u001b[0;34m=\u001b[0m\u001b[0;32mTrue\u001b[0m \u001b[0;34m;\u001b[0m\u001b[0;34m\u001b[0m\u001b[0;34m\u001b[0m\u001b[0m\n\u001b[1;32m      5\u001b[0m ''').collect()\n",
      "\u001b[0;31mNameError\u001b[0m: name 'spark' is not defined"
     ]
    }
   ],
   "source": []
  },
  {
   "cell_type": "code",
   "execution_count": 9,
   "metadata": {},
   "outputs": [],
   "source": []
  },
  {
   "cell_type": "code",
   "execution_count": 10,
   "metadata": {},
   "outputs": [],
   "source": []
  },
  {
   "cell_type": "code",
   "execution_count": 11,
   "metadata": {},
   "outputs": [],
   "source": []
  },
  {
   "cell_type": "code",
   "execution_count": null,
   "metadata": {},
   "outputs": [],
   "source": []
  },
  {
   "cell_type": "markdown",
   "metadata": {},
   "source": [
    "Searching .retweet because .favorite_count resulted in None Ho testing..."
   ]
  },
  {
   "cell_type": "code",
   "execution_count": null,
   "metadata": {},
   "outputs": [],
   "source": [
    "# Results show there is media among senisitive tweeets = True and senisitive tweets == False ... Meaning we can do a hypothesis test\n",
    "# fucking strings and values and parsing is being annoying 4/18\n",
    "#4/19 Based on above ... "
   ]
  },
  {
   "cell_type": "code",
   "execution_count": null,
   "metadata": {},
   "outputs": [],
   "source": []
  },
  {
   "cell_type": "code",
   "execution_count": null,
   "metadata": {},
   "outputs": [],
   "source": []
  },
  {
   "cell_type": "code",
   "execution_count": null,
   "metadata": {},
   "outputs": [],
   "source": []
  },
  {
   "cell_type": "code",
   "execution_count": null,
   "metadata": {},
   "outputs": [],
   "source": []
  },
  {
   "cell_type": "code",
   "execution_count": 22,
   "metadata": {},
   "outputs": [
    {
     "name": "stdout",
     "output_type": "stream",
     "text": [
      "Ttest_indResult(statistic=nan, pvalue=nan)\n"
     ]
    }
   ],
   "source": [
    "s11 = [row[1] for row in san if row[2] == \"['photo']\"]\n",
    "s22 = [row[1] for row in san if row[2] != \"['photo']\"]\n",
    "s3 = [s11,s22]\n",
    "\n",
    "def ho_testing(x):\n",
    "    '''\n",
    "    Inputs: x= list of lists   \n",
    "    output: a p_value \n",
    "    '''\n",
    "    \n",
    "    return stats.ttest_ind(x[0],x[1],alternative= \"greater\",equal_var =False)\n",
    "\n",
    "print(ho_testing(x=s3))"
   ]
  },
  {
   "cell_type": "code",
   "execution_count": 23,
   "metadata": {},
   "outputs": [
    {
     "data": {
      "text/plain": [
       "1368"
      ]
     },
     "execution_count": 23,
     "metadata": {},
     "output_type": "execute_result"
    }
   ],
   "source": [
    "len(s22)"
   ]
  },
  {
   "cell_type": "code",
   "execution_count": null,
   "metadata": {},
   "outputs": [],
   "source": []
  },
  {
   "cell_type": "code",
   "execution_count": 3,
   "metadata": {},
   "outputs": [],
   "source": [
    "#This version includes 1368 tweets | Thus its not just the quoted status since its more than\n",
    "q55 = spark.sql('''\n",
    "SELECT possibly_sensitive, quoted_status.favorite_count, temp1.entities.media.type \n",
    "FROM temp1\n",
    "WHERE possibly_sensitive=True ;\n",
    "''').collect()"
   ]
  },
  {
   "cell_type": "code",
   "execution_count": 7,
   "metadata": {},
   "outputs": [],
   "source": [
    "q6 = spark.sql('''\n",
    "SELECT possibly_sensitive, quoted_status.favorite_count, temp1.entities.media.type\n",
    "FROM temp1\n",
    "WHERE possibly_sensitive= False;\n",
    "''').collect()"
   ]
  },
  {
   "cell_type": "code",
   "execution_count": 8,
   "metadata": {},
   "outputs": [
    {
     "data": {
      "text/plain": [
       "1368"
      ]
     },
     "execution_count": 8,
     "metadata": {},
     "output_type": "execute_result"
    }
   ],
   "source": [
    "dfm55 = pd.DataFrame(q55)\n",
    "len(dfm55)"
   ]
  },
  {
   "cell_type": "code",
   "execution_count": 17,
   "metadata": {},
   "outputs": [
    {
     "data": {
      "text/html": [
       "<div>\n",
       "<style scoped>\n",
       "    .dataframe tbody tr th:only-of-type {\n",
       "        vertical-align: middle;\n",
       "    }\n",
       "\n",
       "    .dataframe tbody tr th {\n",
       "        vertical-align: top;\n",
       "    }\n",
       "\n",
       "    .dataframe thead th {\n",
       "        text-align: right;\n",
       "    }\n",
       "</style>\n",
       "<table border=\"1\" class=\"dataframe\">\n",
       "  <thead>\n",
       "    <tr style=\"text-align: right;\">\n",
       "      <th></th>\n",
       "      <th>0</th>\n",
       "      <th>1</th>\n",
       "      <th>2</th>\n",
       "    </tr>\n",
       "  </thead>\n",
       "  <tbody>\n",
       "    <tr>\n",
       "      <th>0</th>\n",
       "      <td>False</td>\n",
       "      <td>16.0</td>\n",
       "      <td>None</td>\n",
       "    </tr>\n",
       "    <tr>\n",
       "      <th>1</th>\n",
       "      <td>False</td>\n",
       "      <td>NaN</td>\n",
       "      <td>None</td>\n",
       "    </tr>\n",
       "    <tr>\n",
       "      <th>2</th>\n",
       "      <td>False</td>\n",
       "      <td>NaN</td>\n",
       "      <td>None</td>\n",
       "    </tr>\n",
       "    <tr>\n",
       "      <th>3</th>\n",
       "      <td>False</td>\n",
       "      <td>NaN</td>\n",
       "      <td>None</td>\n",
       "    </tr>\n",
       "    <tr>\n",
       "      <th>4</th>\n",
       "      <td>False</td>\n",
       "      <td>51.0</td>\n",
       "      <td>None</td>\n",
       "    </tr>\n",
       "  </tbody>\n",
       "</table>\n",
       "</div>"
      ],
      "text/plain": [
       "       0     1     2\n",
       "0  False  16.0  None\n",
       "1  False   NaN  None\n",
       "2  False   NaN  None\n",
       "3  False   NaN  None\n",
       "4  False  51.0  None"
      ]
     },
     "execution_count": 17,
     "metadata": {},
     "output_type": "execute_result"
    }
   ],
   "source": [
    "dfm6 = pd.DataFrame(q6)\n",
    "dfm6.head()"
   ]
  },
  {
   "cell_type": "code",
   "execution_count": 15,
   "metadata": {},
   "outputs": [
    {
     "name": "stdout",
     "output_type": "stream",
     "text": [
      "{'FalseNone': 0, 'TrueNone': 0, \"False['photo']\": 0} 0 1048 320\n"
     ]
    }
   ],
   "source": [
    "ses_dict = {'FalseNone':0,'TrueNone':0,\"False['photo']\":0}\n",
    "falsez = 0\n",
    "truez = 0\n",
    "photo = 0\n",
    "check=''\n",
    "for item in san:\n",
    "    check = str(item[0]) + str(item[2])\n",
    "    likes = str(item[1])\n",
    "    \n",
    "    if check == 'FalseNone':\n",
    "        falsez +=1\n",
    "        ses_dict['FalseNone']+=int(likes)\n",
    "    if check == 'TrueNone':\n",
    "        truez+=1\n",
    "        ses_dict['TrueNone']+=int(likes)\n",
    "        \n",
    "    else:\n",
    "        photo+=1\n",
    "        ses_dict[\"False['photo']\"]+=int(likes)\n",
    "    \n",
    "print(ses_dict,falsez, truez,photo)\n",
    "        \n",
    "# 4/16/21 modify this to simply separate"
   ]
  },
  {
   "cell_type": "code",
   "execution_count": 12,
   "metadata": {},
   "outputs": [],
   "source": [
    "q7 = spark.sql('''\n",
    "SELECT possibly_sensitive, quoted_status.favorite_count, temp1.entities.media.type\n",
    "FROM temp1\n",
    "WHERE quoted_status.possibly_sensitive=True ;\n",
    "''').collect()"
   ]
  },
  {
   "cell_type": "code",
   "execution_count": 23,
   "metadata": {},
   "outputs": [
    {
     "name": "stdout",
     "output_type": "stream",
     "text": [
      "{'FalseNone': 1246016, 'TrueNone': 24790, \"False['photo']\": 1246016} 492 20 492\n"
     ]
    }
   ],
   "source": [
    "df7=pd.DataFrame(q7)\n",
    "ses_dictz = {'FalseNone':0,'TrueNone':0,\"False['photo']\":0}\n",
    "falsezz = 0\n",
    "truezz = 0\n",
    "photoz = 0\n",
    "checkz=''\n",
    "for item in q7:\n",
    "    checkz = str(item[0]) + str(item[2])\n",
    "    likesz = str(item[1])\n",
    "    if checkz == 'FalseNone':\n",
    "        falsezz +=1\n",
    "        ses_dictz['FalseNone']+=int(likesz)\n",
    "    if checkz == 'TrueNone':\n",
    "        truezz+=1\n",
    "        ses_dictz['TrueNone']+=int(likesz)\n",
    "    else:\n",
    "        photoz+=1\n",
    "        ses_dictz[\"False['photo']\"]+=int(likesz)\n",
    "    \n",
    "print(ses_dictz,falsezz, truezz,photoz)"
   ]
  },
  {
   "cell_type": "code",
   "execution_count": 9,
   "metadata": {},
   "outputs": [],
   "source": [
    "from pyspark.sql.functions import (dayofmonth,hour,format_number,date_format,month)"
   ]
  },
  {
   "cell_type": "code",
   "execution_count": 6,
   "metadata": {},
   "outputs": [],
   "source": [
    "#doing content_filter for q4 \n",
    "#clean strings\n",
    "\n",
    "def content_filter2(q):\n",
    "    content_df2={}\n",
    "    counter = 0 \n",
    "    for item in q:\n",
    "        \n",
    "        #time = item[2][11:18]\n",
    "        hour_of_day=item[2][10:13] #Hour of day\n",
    "        flagg = str(item[3]) #Senesitive Status \n",
    "        n_likes=str(item[4]) #int or none \n",
    "        photo_check = str(item[5]) #none or no\n",
    "        \n",
    "        if n_likes != 'None':\n",
    "            n_likes = int( ''.join(n_likes.strip(':') )) \n",
    "            \n",
    "        if photo_check == 'None':\n",
    "            photo_check = 'No'\n",
    "\n",
    "        vals = [hour_of_day,flagg,n_likes,photo_check]\n",
    "        content_df2[counter] = vals    \n",
    "        counter +=1\n",
    "        \n",
    "    return content_df2   \n",
    "\n",
    "all_media = content_filter2(q4)"
   ]
  },
  {
   "cell_type": "code",
   "execution_count": 7,
   "metadata": {},
   "outputs": [],
   "source": [
    "df =pd.DataFrame(all_media)\n",
    "df_ = df.transpose()\n",
    "df_.rename(columns = {0:'Hour', 1:'Sensitive', 2:'Like Count', 3:'Media'}, inplace=True)"
   ]
  },
  {
   "cell_type": "code",
   "execution_count": 31,
   "metadata": {},
   "outputs": [],
   "source": [
    "df_.head()\n",
    "df_['Type'] =  df_['Sensitive'] + df_['Media'] \n",
    "subset = df_[(df_['Like Count'] != 'None')]"
   ]
  },
  {
   "cell_type": "code",
   "execution_count": 43,
   "metadata": {},
   "outputs": [
    {
     "data": {
      "text/html": [
       "<div>\n",
       "<style scoped>\n",
       "    .dataframe tbody tr th:only-of-type {\n",
       "        vertical-align: middle;\n",
       "    }\n",
       "\n",
       "    .dataframe tbody tr th {\n",
       "        vertical-align: top;\n",
       "    }\n",
       "\n",
       "    .dataframe thead th {\n",
       "        text-align: right;\n",
       "    }\n",
       "</style>\n",
       "<table border=\"1\" class=\"dataframe\">\n",
       "  <thead>\n",
       "    <tr style=\"text-align: right;\">\n",
       "      <th></th>\n",
       "      <th>Hour</th>\n",
       "      <th>Sensitive</th>\n",
       "      <th>Like Count</th>\n",
       "      <th>Media</th>\n",
       "      <th>Type</th>\n",
       "    </tr>\n",
       "  </thead>\n",
       "  <tbody>\n",
       "    <tr>\n",
       "      <th>0</th>\n",
       "      <td>13</td>\n",
       "      <td>None</td>\n",
       "      <td>None</td>\n",
       "      <td>No</td>\n",
       "      <td>NoneNo</td>\n",
       "    </tr>\n",
       "    <tr>\n",
       "      <th>1</th>\n",
       "      <td>13</td>\n",
       "      <td>False</td>\n",
       "      <td>None</td>\n",
       "      <td>['photo']</td>\n",
       "      <td>False['photo']</td>\n",
       "    </tr>\n",
       "    <tr>\n",
       "      <th>2</th>\n",
       "      <td>13</td>\n",
       "      <td>False</td>\n",
       "      <td>None</td>\n",
       "      <td>No</td>\n",
       "      <td>FalseNo</td>\n",
       "    </tr>\n",
       "    <tr>\n",
       "      <th>3</th>\n",
       "      <td>13</td>\n",
       "      <td>None</td>\n",
       "      <td>None</td>\n",
       "      <td>No</td>\n",
       "      <td>NoneNo</td>\n",
       "    </tr>\n",
       "    <tr>\n",
       "      <th>4</th>\n",
       "      <td>13</td>\n",
       "      <td>None</td>\n",
       "      <td>None</td>\n",
       "      <td>No</td>\n",
       "      <td>NoneNo</td>\n",
       "    </tr>\n",
       "  </tbody>\n",
       "</table>\n",
       "</div>"
      ],
      "text/plain": [
       "  Hour Sensitive Like Count      Media            Type\n",
       "0   13      None       None         No          NoneNo\n",
       "1   13     False       None  ['photo']  False['photo']\n",
       "2   13     False       None         No         FalseNo\n",
       "3   13      None       None         No          NoneNo\n",
       "4   13      None       None         No          NoneNo"
      ]
     },
     "execution_count": 43,
     "metadata": {},
     "output_type": "execute_result"
    }
   ],
   "source": [
    "df_.head()"
   ]
  },
  {
   "cell_type": "code",
   "execution_count": 40,
   "metadata": {},
   "outputs": [],
   "source": [
    "tup_lst = list(zip(subset['Type'].values, subset['Like Count'].values))"
   ]
  },
  {
   "cell_type": "code",
   "execution_count": 41,
   "metadata": {},
   "outputs": [
    {
     "data": {
      "text/plain": [
       "('FalseNo', 1)"
      ]
     },
     "execution_count": 41,
     "metadata": {},
     "output_type": "execute_result"
    }
   ],
   "source": [
    "tup_lst[0]"
   ]
  },
  {
   "cell_type": "code",
   "execution_count": 42,
   "metadata": {},
   "outputs": [
    {
     "name": "stdout",
     "output_type": "stream",
     "text": [
      "{'FalseNo': 4271736, 'TrueNo': 26409, \"False['photo']\": 19246}\n"
     ]
    }
   ],
   "source": [
    "media_d = {}\n",
    "for item in tup_lst:\n",
    "    stats = item[0]\n",
    "    likes = item[1]\n",
    "    if stats not in media_d:\n",
    "        media_d[stats] = likes\n",
    "    else:\n",
    "        media_d[stats]+= likes\n",
    "print(media_d)\n",
    "    "
   ]
  },
  {
   "cell_type": "code",
   "execution_count": 27,
   "metadata": {},
   "outputs": [
    {
     "data": {
      "text/html": [
       "<div>\n",
       "<style scoped>\n",
       "    .dataframe tbody tr th:only-of-type {\n",
       "        vertical-align: middle;\n",
       "    }\n",
       "\n",
       "    .dataframe tbody tr th {\n",
       "        vertical-align: top;\n",
       "    }\n",
       "\n",
       "    .dataframe thead th {\n",
       "        text-align: right;\n",
       "    }\n",
       "</style>\n",
       "<table border=\"1\" class=\"dataframe\">\n",
       "  <thead>\n",
       "    <tr style=\"text-align: right;\">\n",
       "      <th></th>\n",
       "      <th>Hour</th>\n",
       "      <th>Sensitive</th>\n",
       "      <th>Like Count</th>\n",
       "      <th>Media</th>\n",
       "      <th>Type</th>\n",
       "    </tr>\n",
       "  </thead>\n",
       "  <tbody>\n",
       "    <tr>\n",
       "      <th>7</th>\n",
       "      <td>13</td>\n",
       "      <td>False</td>\n",
       "      <td>1</td>\n",
       "      <td>No</td>\n",
       "      <td>FalseNo</td>\n",
       "    </tr>\n",
       "    <tr>\n",
       "      <th>36</th>\n",
       "      <td>13</td>\n",
       "      <td>False</td>\n",
       "      <td>6478</td>\n",
       "      <td>No</td>\n",
       "      <td>FalseNo</td>\n",
       "    </tr>\n",
       "    <tr>\n",
       "      <th>52</th>\n",
       "      <td>13</td>\n",
       "      <td>False</td>\n",
       "      <td>871</td>\n",
       "      <td>No</td>\n",
       "      <td>FalseNo</td>\n",
       "    </tr>\n",
       "    <tr>\n",
       "      <th>54</th>\n",
       "      <td>13</td>\n",
       "      <td>False</td>\n",
       "      <td>1</td>\n",
       "      <td>No</td>\n",
       "      <td>FalseNo</td>\n",
       "    </tr>\n",
       "    <tr>\n",
       "      <th>63</th>\n",
       "      <td>13</td>\n",
       "      <td>True</td>\n",
       "      <td>23</td>\n",
       "      <td>No</td>\n",
       "      <td>TrueNo</td>\n",
       "    </tr>\n",
       "  </tbody>\n",
       "</table>\n",
       "</div>"
      ],
      "text/plain": [
       "   Hour Sensitive Like Count Media     Type\n",
       "7    13     False          1    No  FalseNo\n",
       "36   13     False       6478    No  FalseNo\n",
       "52   13     False        871    No  FalseNo\n",
       "54   13     False          1    No  FalseNo\n",
       "63   13      True         23    No   TrueNo"
      ]
     },
     "execution_count": 27,
     "metadata": {},
     "output_type": "execute_result"
    }
   ],
   "source": [
    "subset.head()"
   ]
  },
  {
   "cell_type": "code",
   "execution_count": 44,
   "metadata": {},
   "outputs": [],
   "source": [
    "subset2 = subset[subset['Media']!= 'No']"
   ]
  },
  {
   "cell_type": "code",
   "execution_count": null,
   "metadata": {},
   "outputs": [],
   "source": []
  },
  {
   "cell_type": "code",
   "execution_count": null,
   "metadata": {},
   "outputs": [],
   "source": []
  },
  {
   "cell_type": "code",
   "execution_count": 7,
   "metadata": {},
   "outputs": [],
   "source": [
    "def content_filter(q):\n",
    "    content_df={}\n",
    "    for item in q:\n",
    "\n",
    "        time = item[2] \n",
    "        time2 = item[2][10:16]\n",
    "        status = str(item[3])\n",
    "        n_likes=str(item[4])\n",
    "        photo_check = str(item[5])\n",
    "        \n",
    "        if n_likes != 'None':\n",
    "            n_likes = int( ''.join(n_likes.strip(':') )) \n",
    "        if status != 'True' and status != 'False':\n",
    "            status = int(status)\n",
    "            \n",
    "        vals = [time,status,n_likes,photo_check]\n",
    "        \n",
    "        content_df[time2] = vals    \n",
    "        \n",
    "    return content_df      "
   ]
  },
  {
   "cell_type": "code",
   "execution_count": null,
   "metadata": {},
   "outputs": [],
   "source": []
  },
  {
   "cell_type": "code",
   "execution_count": 8,
   "metadata": {},
   "outputs": [
    {
     "name": "stdout",
     "output_type": "stream",
     "text": [
      "{'photo_likes': 23, 'None': 133, \"['photo']\": 48} 50\n"
     ]
    }
   ],
   "source": [
    "q3 = spark.sql('''\n",
    "SELECT lang , text,created_at, possibly_sensitive, quoted_status.favorite_count, entities.media.type\n",
    "FROM temp1\n",
    "WHERE lang = 'en' and possibly_sensitive = \"True\";\n",
    "''').collect()\n",
    "#collecting data for ho testing on media type and flagged yes \n",
    "dfcon= content_filter(q3[0:78600 & 79500:]) \n",
    "\n",
    "media_type_counts = {'photo_likes':0}\n",
    "photo_likes = 'photo_likes'\n",
    "acum=0\n",
    "for k,v in dfcon.items():\n",
    "    media_type = v[3]\n",
    "    likes = str(v[2])\n",
    "    \n",
    "    if likes == 'None':\n",
    "        likes = 0\n",
    "    acum+=int(likes)\n",
    "    if media_type not in media_type_counts:\n",
    "        \n",
    "        media_type_counts[media_type]=1\n",
    "        media_type_counts['photo_likes'] += int(likes)\n",
    "        \n",
    "    else:\n",
    "        media_type_counts[media_type]+=1\n",
    "    \n",
    "        \n",
    "        \n",
    "print(media_type_counts,likes)\n",
    "    \n",
    "    \n",
    "    \n",
    "#go Through and collect / count occurances \n",
    "#of the 205 Flagged posts with media, 48 had a photo attachment and 133 did not\n",
    "#For the 50 likes from the 205 flagged posts with media 23 had likes. "
   ]
  },
  {
   "cell_type": "code",
   "execution_count": 9,
   "metadata": {},
   "outputs": [],
   "source": [
    "# possibly sensitive results for all quoted_status\n",
    "q1 = spark.sql(\n",
    "'''\n",
    "SELECT created_at, possibly_sensitive\n",
    "FROM temp1; \n",
    "'''\n",
    ").collect()\n",
    "\n",
    "#tally tweets by hour. \n",
    "\n",
    "def times_hour(q):\n",
    "    by_hour2={}\n",
    "    for item in q:\n",
    "        time = item[0][10:13]\n",
    "        status = str(item[1])\n",
    "        \n",
    "        #text = item[2]\n",
    "        if time not in by_hour2:\n",
    "            by_hour2[time]={'yes':0, 'no':0, 'nao':0}\n",
    "        if len(status) < 0:\n",
    "            status = 'nao'\n",
    "        if time in by_hour2.keys():\n",
    "            if status == 'True':\n",
    "                by_hour2[time]['yes'] +=1\n",
    "            if status == 'False':\n",
    "                by_hour2[time]['no']+=1\n",
    "            else:\n",
    "                by_hour2[time]['nao']+=1\n",
    "    return by_hour2        "
   ]
  },
  {
   "cell_type": "code",
   "execution_count": 15,
   "metadata": {},
   "outputs": [],
   "source": [
    "#dfcon.items()"
   ]
  },
  {
   "cell_type": "code",
   "execution_count": 11,
   "metadata": {},
   "outputs": [
    {
     "name": "stdout",
     "output_type": "stream",
     "text": [
      "<class 'dict'>\n"
     ]
    }
   ],
   "source": [
    "\n",
    "by_hour = times_hour(q1[0:78600 & 79500:])\n",
    "print(type(by_hour))"
   ]
  },
  {
   "cell_type": "code",
   "execution_count": 27,
   "metadata": {},
   "outputs": [
    {
     "data": {
      "text/plain": [
       "{' 13': {'yes': 28, 'no': 2316, 'nao': 2600},\n",
       " ' 14': {'yes': 38, 'no': 2842, 'nao': 3856},\n",
       " ' 15': {'yes': 64, 'no': 4173, 'nao': 6094},\n",
       " ' 16': {'yes': 31, 'no': 1623, 'nao': 2105},\n",
       " ' 17': {'yes': 40, 'no': 1913, 'nao': 3228},\n",
       " ' 18': {'yes': 10, 'no': 878, 'nao': 1578},\n",
       " ' 19': {'yes': 10, 'no': 697, 'nao': 1771},\n",
       " ' 20': {'yes': 5, 'no': 444, 'nao': 1229},\n",
       " ' 21': {'yes': 18, 'no': 1383, 'nao': 2394},\n",
       " ' 22': {'yes': 30, 'no': 1209, 'nao': 2205},\n",
       " ' 23': {'yes': 33, 'no': 965, 'nao': 1220},\n",
       " ' 00': {'yes': 0, 'no': 3, 'nao': 15},\n",
       " ' 01': {'yes': 5, 'no': 225, 'nao': 488},\n",
       " ' 02': {'yes': 4, 'no': 174, 'nao': 208},\n",
       " ' 03': {'yes': 5, 'no': 68, 'nao': 59},\n",
       " ' 04': {'yes': 9, 'no': 463, 'nao': 575},\n",
       " ' 05': {'yes': 1, 'no': 30, 'nao': 34},\n",
       " ' 06': {'yes': 14, 'no': 1454, 'nao': 1471},\n",
       " ' 07': {'yes': 23, 'no': 1988, 'nao': 1980},\n",
       " ' 08': {'yes': 28, 'no': 2254, 'nao': 2117},\n",
       " ' 09': {'yes': 21, 'no': 2113, 'nao': 2454},\n",
       " ' 10': {'yes': 27, 'no': 2241, 'nao': 2423},\n",
       " ' 11': {'yes': 40, 'no': 2131, 'nao': 2326},\n",
       " ' 12': {'yes': 36, 'no': 1954, 'nao': 2373}}"
      ]
     },
     "execution_count": 27,
     "metadata": {},
     "output_type": "execute_result"
    }
   ],
   "source": [
    "by_hour "
   ]
  },
  {
   "cell_type": "code",
   "execution_count": 11,
   "metadata": {},
   "outputs": [],
   "source": [
    "import matplotlib.pyplot as plt\n",
    "from matplotlib import gridspec\n",
    "plt.style.use('ggplot')\n",
    "plt.rcParams.update({'font.size': 16})\n",
    "plt.rcParams['savefig.dpi'] = 300\n",
    "plt.rcParams['axes.facecolor'] = 'white'\n",
    "plt.rcParams['grid.color'] = 'lightgrey'"
   ]
  },
  {
   "cell_type": "code",
   "execution_count": 23,
   "metadata": {},
   "outputs": [],
   "source": [
    "# df_play = pd.DataFrame(time_counts ) \n",
    "# df_play2=df_play.transpose()\n",
    "# print(df_play2)\n",
    "# time_stamp = df_play2.index.values\n",
    "# df_play2['time_stamp'] = time_stamp"
   ]
  },
  {
   "cell_type": "code",
   "execution_count": 46,
   "metadata": {},
   "outputs": [
    {
     "name": "stdout",
     "output_type": "stream",
     "text": [
      "[(0, 3), (1, 225), (2, 174), (3, 68), (4, 463), (5, 30), (6, 1454), (7, 1988), (8, 2254), (9, 2113), (10, 2241), (11, 2131), (12, 1954), (13, 2316), (14, 2842), (15, 4173), (16, 1623), (17, 1913), (18, 878), (19, 697), (20, 444), (21, 1383), (22, 1209), (23, 965)]\n"
     ]
    }
   ],
   "source": [
    "#sort dict, graph x = key, y = yes_num\n",
    "lst=[]\n",
    "for k,v in by_hour.items():\n",
    "    k_=int(k)\n",
    "    c=list(v.values())\n",
    "    lst.append((k_,c[1]))\n",
    "lst.sort(key = lambda x: x[0])\n",
    "print(lst)"
   ]
  },
  {
   "cell_type": "code",
   "execution_count": 47,
   "metadata": {},
   "outputs": [
    {
     "data": {
      "image/png": "[encoded data removed]",
      "text/plain": [
       "<Figure size 432x288 with 1 Axes>"
      ]
     },
     "metadata": {},
     "output_type": "display_data"
    },
    {
     "data": {
      "text/plain": [
       "<Figure size 936x936 with 0 Axes>"
      ]
     },
     "metadata": {},
     "output_type": "display_data"
    }
   ],
   "source": [
    "# Number of flaggest tweets per hour en \n",
    "\n",
    "x_val = [i[0] for i in lst]\n",
    "y_val = [i[1] for i in lst]\n",
    "plt.title('Hourly Counts: Possibly SensitiveTweets')\n",
    "plt.xlabel('Hour')\n",
    "plt.ylabel('Number of Tweets')\n",
    "plt.plot(x_val,y_val)\n",
    "plt.plot(x_val,y_val, 'or')\n",
    "plt.figure(figsize=(13,13))\n",
    "plt.show()"
   ]
  },
  {
   "cell_type": "code",
   "execution_count": 45,
   "metadata": {},
   "outputs": [
    {
     "name": "stdout",
     "output_type": "stream",
     "text": [
      "[(0, 3), (1, 225), (2, 174), (3, 68), (4, 463), (5, 30), (6, 1454), (7, 1988), (8, 2254), (9, 2113), (10, 2241), (11, 2131), (12, 1954), (13, 2316), (14, 2842), (15, 4173), (16, 1623), (17, 1913), (18, 878), (19, 697), (20, 444), (21, 1383), (22, 1209), (23, 965)]\n",
      "[(0, 3), (0, 15), (1, 225), (1, 488), (2, 174), (2, 208), (3, 68), (3, 59), (4, 463), (4, 575), (5, 30), (5, 34), (6, 1454), (6, 1471), (7, 1988), (7, 1980), (8, 2254), (8, 2117), (9, 2113), (9, 2454), (10, 2241), (10, 2423), (11, 2131), (11, 2326), (12, 1954), (12, 2373), (13, 2316), (13, 2600), (14, 2842), (14, 3856), (15, 4173), (15, 6094), (16, 1623), (16, 2105), (17, 1913), (17, 3228), (18, 878), (18, 1578), (19, 697), (19, 1771), (20, 444), (20, 1229), (21, 1383), (21, 2394), (22, 1209), (22, 2205), (23, 965), (23, 1220)]\n"
     ]
    },
    {
     "data": {
      "image/png": "[encoded data removed]",
      "text/plain": [
       "<Figure size 432x288 with 1 Axes>"
      ]
     },
     "metadata": {},
     "output_type": "display_data"
    },
    {
     "data": {
      "text/plain": [
       "<Figure size 936x936 with 0 Axes>"
      ]
     },
     "metadata": {},
     "output_type": "display_data"
    }
   ],
   "source": [
    "#as Compared to False_senisitive tweets per hour and all tweets per hour\n",
    "lst_all=[]\n",
    "for k,v in by_hour.items():\n",
    "    k_=int(k)\n",
    "    c=list(v.values())\n",
    "    lst_all.append((k_,c[1]))\n",
    "lst_all.sort(key = lambda x: x[0])\n",
    "print(lst_all)\n",
    "\n",
    "lst_f=[]\n",
    "for k,v in by_hour.items():\n",
    "    k_=int(k)\n",
    "    c=list(v.values())\n",
    "    lst_all.append((k_,c[2]))\n",
    "lst_all.sort(key = lambda x: x[0])\n",
    "print(lst_all)\n",
    "\n",
    "x_val = [i[0] for i in lst_all]\n",
    "y_val_all = [i[1] for i in lst_all]\n",
    "\n",
    "plt.title('Hourly Counts: All and Falsely Marked Sensitive')\n",
    "plt.xlabel('Hour')\n",
    "plt.ylabel('Number of Tweets')\n",
    "plt.plot(x_val,y_val_all)\n",
    "plt.plot(x_val,y_val_all)\n",
    "plt.plot(x_val,y_val_all,  'or')\n",
    "plt.figure(figsize=(13,13))\n",
    "plt.show()"
   ]
  },
  {
   "cell_type": "code",
   "execution_count": 206,
   "metadata": {},
   "outputs": [
    {
     "ename": "AttributeError",
     "evalue": "module 'matplotlib.pyplot' has no attribute 'pyplot'",
     "output_type": "error",
     "traceback": [
      "\u001b[0;31m---------------------------------------------------------------------------\u001b[0m",
      "\u001b[0;31mAttributeError\u001b[0m                            Traceback (most recent call last)",
      "\u001b[0;32m<ipython-input-206-a7c1cc26373b>\u001b[0m in \u001b[0;36m<module>\u001b[0;34m\u001b[0m\n\u001b[1;32m      1\u001b[0m \u001b[0;32mimport\u001b[0m \u001b[0mmatplotlib\u001b[0m\u001b[0;34m.\u001b[0m\u001b[0mpyplot\u001b[0m \u001b[0;32mas\u001b[0m \u001b[0mplt\u001b[0m\u001b[0;34m\u001b[0m\u001b[0;34m\u001b[0m\u001b[0m\n\u001b[1;32m      2\u001b[0m \u001b[0mget_ipython\u001b[0m\u001b[0;34m(\u001b[0m\u001b[0;34m)\u001b[0m\u001b[0;34m.\u001b[0m\u001b[0mrun_line_magic\u001b[0m\u001b[0;34m(\u001b[0m\u001b[0;34m'matplotlib'\u001b[0m\u001b[0;34m,\u001b[0m \u001b[0;34m'inline'\u001b[0m\u001b[0;34m)\u001b[0m\u001b[0;34m\u001b[0m\u001b[0;34m\u001b[0m\u001b[0m\n\u001b[0;32m----> 3\u001b[0;31m \u001b[0mplt\u001b[0m\u001b[0;34m.\u001b[0m\u001b[0mpyplot\u001b[0m\u001b[0;34m.\u001b[0m\u001b[0mfigure\u001b[0m\u001b[0;34m(\u001b[0m\u001b[0mfigsize\u001b[0m\u001b[0;34m=\u001b[0m \u001b[0;34m[\u001b[0m\u001b[0;36m10.0\u001b[0m\u001b[0;34m,\u001b[0m\u001b[0;36m10.0\u001b[0m\u001b[0;34m]\u001b[0m\u001b[0;34m)\u001b[0m\u001b[0;34m\u001b[0m\u001b[0;34m\u001b[0m\u001b[0m\n\u001b[0m\u001b[1;32m      4\u001b[0m \u001b[0maxes\u001b[0m \u001b[0;34m=\u001b[0m \u001b[0mdf_play2\u001b[0m\u001b[0;34m.\u001b[0m\u001b[0mplot\u001b[0m\u001b[0;34m.\u001b[0m\u001b[0mline\u001b[0m\u001b[0;34m(\u001b[0m\u001b[0msubplots\u001b[0m\u001b[0;34m=\u001b[0m\u001b[0;32mTrue\u001b[0m\u001b[0;34m)\u001b[0m\u001b[0;34m\u001b[0m\u001b[0;34m\u001b[0m\u001b[0m\n\u001b[1;32m      5\u001b[0m \u001b[0mplt\u001b[0m\u001b[0;34m.\u001b[0m\u001b[0mshow\u001b[0m\u001b[0;34m(\u001b[0m\u001b[0;34m)\u001b[0m\u001b[0;34m\u001b[0m\u001b[0;34m\u001b[0m\u001b[0m\n",
      "\u001b[0;31mAttributeError\u001b[0m: module 'matplotlib.pyplot' has no attribute 'pyplot'"
     ]
    }
   ],
   "source": [
    "import matplotlib.pyplot as plt\n",
    "%matplotlib inline\n",
    "fig1 = plt.line()"
   ]
  },
  {
   "cell_type": "code",
   "execution_count": null,
   "metadata": {},
   "outputs": [],
   "source": [
    "# HERE "
   ]
  },
  {
   "cell_type": "code",
   "execution_count": null,
   "metadata": {},
   "outputs": [],
   "source": [
    "s= \"[Row(contributors=None, coordinates=None, created_at='Wed Apr 26 13:30:46 +0000 2017', display_text_range=[25, 82], entities=Row(hashtags=[], media=None, symbols=[], urls=[], user_mentions=[Row(id=326757541, id_str='326757541', indices=[0, 9], name=L'Echo Républicain, screen_name='lecho_fr'), Row(id=3482554756, id_str='3482554756', indices=[10, 24], name='La Saucelle Off', screen_name='lasaucelleoff')]), extended_entities=None, extended_tweet=None, favorite_count=0, favorited=False, filter_level='low', geo=None, id=857225441157021697, id_str='857225441157021697', in_reply_to_screen_name='lecho_fr', in_reply_to_status_id=817116111389032448, in_reply_to_status_id_str='817116111389032448', in_reply_to_user_id=326757541, in_reply_to_user_id_str='326757541', is_quote_status=False, lang='fr', limit=None, place=Row(bounding_box=Row(coordinates=[[[1.427255, 48.421392], [1.427255, 48.446024], [1.478306, 48.446024], [1.478306, 48.421392]]], type='Polygon'), country='France', country_code='FR', full_name='Lucé, France', id='50d429c8224054f9', name='Lucé', place_type='city', url='https://api.twitter.com/1.1/geo/id/50d429c8224054f9.json'), possibly_sensitive=None, quoted_status=None, quoted_status_id=None, quoted_status_id_str=None, retweet_count=0, retweeted=False, source='<a href=http://twitter.com/download/android rel=nofollow>Twitter for Android</a>', text=@lecho_fr @lasaucelleoff J'espère faire mieux mais c'est pas sûr dieu seul le sait, timestamp_ms='1493213446307', truncated=False, user=Row(contributors_enabled=False, created_at='Mon Dec 05 16:07:15 +0000 2016', default_profile=False, default_profile_image=False, description='Je reste discret sur ma vie comme ça pas de mensonge â vous dire. La photo vous dit la réponse pas compliqué à comprendre?', favourites_count=13, follow_request_sent=None, followers_count=5, following=None, friends_count=20, geo_enabled=True, id=805805743316357120, id_str='805805743316357120', is_translator=False, lang='fr', listed_count=2, location='Centre, France', name='Bjr du Centre', notifications=None, profile_background_color='000000', profile_background_image_url='http://abs.twimg.com/images/themes/theme1/bg.png', profile_background_image_url_https='https://abs.twimg.com/images/themes/theme1/bg.png', profile_background_tile=False, profile_banner_url='https://pbs.twimg.com/profile_banners/805805743316357120/1493199314', profile_image_url='http://pbs.twimg.com/profile_images/856537187592155136/zuiUKOym_normal.jpg', profile_image_url_https='https://pbs.twimg.com/profile_images/856537187592155136/zuiUKOym_normal.jpg', profile_link_color='E81C4F', profile_sidebar_border_color='000000', profile_sidebar_fill_color='000000', profile_text_color='000000', profile_use_background_image=False, protected=False, screen_name='scorpionrouge21', statuses_count=8, time_zone='Paris', url=None, utc_offset=7200, verified=False))]\""
   ]
  },
  {
   "cell_type": "code",
   "execution_count": 4,
   "metadata": {},
   "outputs": [
    {
     "data": {
      "text/plain": [
       "Column<b'coordinates[retweet_count]'>"
      ]
     },
     "execution_count": 4,
     "metadata": {},
     "output_type": "execute_result"
    }
   ],
   "source": [
    "\n",
    "tweets_df[1]['retweet_count']"
   ]
  },
  {
   "cell_type": "code",
   "execution_count": 5,
   "metadata": {},
   "outputs": [
    {
     "data": {
      "text/plain": [
       "[Row(contributors=None, coordinates=None, created_at='Wed Apr 26 13:30:46 +0000 2017', display_text_range=[25, 82], entities=Row(hashtags=[], media=None, symbols=[], urls=[], user_mentions=[Row(id=326757541, id_str='326757541', indices=[0, 9], name=\"L'Echo Républicain\", screen_name='lecho_fr'), Row(id=3482554756, id_str='3482554756', indices=[10, 24], name='La Saucelle Off', screen_name='lasaucelleoff')]), extended_entities=None, extended_tweet=None, favorite_count=0, favorited=False, filter_level='low', geo=None, id=857225441157021697, id_str='857225441157021697', in_reply_to_screen_name='lecho_fr', in_reply_to_status_id=817116111389032448, in_reply_to_status_id_str='817116111389032448', in_reply_to_user_id=326757541, in_reply_to_user_id_str='326757541', is_quote_status=False, lang='fr', limit=None, place=Row(bounding_box=Row(coordinates=[[[1.427255, 48.421392], [1.427255, 48.446024], [1.478306, 48.446024], [1.478306, 48.421392]]], type='Polygon'), country='France', country_code='FR', full_name='Lucé, France', id='50d429c8224054f9', name='Lucé', place_type='city', url='https://api.twitter.com/1.1/geo/id/50d429c8224054f9.json'), possibly_sensitive=None, quoted_status=None, quoted_status_id=None, quoted_status_id_str=None, retweet_count=0, retweeted=False, source='<a href=\"http://twitter.com/download/android\" rel=\"nofollow\">Twitter for Android</a>', text=\"@lecho_fr @lasaucelleoff J'espère faire mieux mais c'est pas sûr dieu seul le sait\", timestamp_ms='1493213446307', truncated=False, user=Row(contributors_enabled=False, created_at='Mon Dec 05 16:07:15 +0000 2016', default_profile=False, default_profile_image=False, description='Je reste discret sur ma vie comme ça pas de mensonge â vous dire. La photo vous dit la réponse pas compliqué à comprendre?', favourites_count=13, follow_request_sent=None, followers_count=5, following=None, friends_count=20, geo_enabled=True, id=805805743316357120, id_str='805805743316357120', is_translator=False, lang='fr', listed_count=2, location='Centre, France', name='Bjr du Centre', notifications=None, profile_background_color='000000', profile_background_image_url='http://abs.twimg.com/images/themes/theme1/bg.png', profile_background_image_url_https='https://abs.twimg.com/images/themes/theme1/bg.png', profile_background_tile=False, profile_banner_url='https://pbs.twimg.com/profile_banners/805805743316357120/1493199314', profile_image_url='http://pbs.twimg.com/profile_images/856537187592155136/zuiUKOym_normal.jpg', profile_image_url_https='https://pbs.twimg.com/profile_images/856537187592155136/zuiUKOym_normal.jpg', profile_link_color='E81C4F', profile_sidebar_border_color='000000', profile_sidebar_fill_color='000000', profile_text_color='000000', profile_use_background_image=False, protected=False, screen_name='scorpionrouge21', statuses_count=8, time_zone='Paris', url=None, utc_offset=7200, verified=False))]"
      ]
     },
     "execution_count": 5,
     "metadata": {},
     "output_type": "execute_result"
    }
   ],
   "source": [
    "tweets_df.take(1)"
   ]
  },
  {
   "cell_type": "code",
   "execution_count": 7,
   "metadata": {},
   "outputs": [
    {
     "data": {
      "text/plain": [
       "[Row(contributors=None, coordinates=None, created_at='Wed Apr 26 13:30:46 +0000 2017', display_text_range=[25, 82], entities=Row(hashtags=[], media=None, symbols=[], urls=[], user_mentions=[Row(id=326757541, id_str='326757541', indices=[0, 9], name=\"L'Echo Républicain\", screen_name='lecho_fr'), Row(id=3482554756, id_str='3482554756', indices=[10, 24], name='La Saucelle Off', screen_name='lasaucelleoff')]), extended_entities=None, extended_tweet=None, favorite_count=0, favorited=False, filter_level='low', geo=None, id=857225441157021697, id_str='857225441157021697', in_reply_to_screen_name='lecho_fr', in_reply_to_status_id=817116111389032448, in_reply_to_status_id_str='817116111389032448', in_reply_to_user_id=326757541, in_reply_to_user_id_str='326757541', is_quote_status=False, lang='fr', limit=None, place=Row(bounding_box=Row(coordinates=[[[1.427255, 48.421392], [1.427255, 48.446024], [1.478306, 48.446024], [1.478306, 48.421392]]], type='Polygon'), country='France', country_code='FR', full_name='Lucé, France', id='50d429c8224054f9', name='Lucé', place_type='city', url='https://api.twitter.com/1.1/geo/id/50d429c8224054f9.json'), possibly_sensitive=None, quoted_status=None, quoted_status_id=None, quoted_status_id_str=None, retweet_count=0, retweeted=False, source='<a href=\"http://twitter.com/download/android\" rel=\"nofollow\">Twitter for Android</a>', text=\"@lecho_fr @lasaucelleoff J'espère faire mieux mais c'est pas sûr dieu seul le sait\", timestamp_ms='1493213446307', truncated=False, user=Row(contributors_enabled=False, created_at='Mon Dec 05 16:07:15 +0000 2016', default_profile=False, default_profile_image=False, description='Je reste discret sur ma vie comme ça pas de mensonge â vous dire. La photo vous dit la réponse pas compliqué à comprendre?', favourites_count=13, follow_request_sent=None, followers_count=5, following=None, friends_count=20, geo_enabled=True, id=805805743316357120, id_str='805805743316357120', is_translator=False, lang='fr', listed_count=2, location='Centre, France', name='Bjr du Centre', notifications=None, profile_background_color='000000', profile_background_image_url='http://abs.twimg.com/images/themes/theme1/bg.png', profile_background_image_url_https='https://abs.twimg.com/images/themes/theme1/bg.png', profile_background_tile=False, profile_banner_url='https://pbs.twimg.com/profile_banners/805805743316357120/1493199314', profile_image_url='http://pbs.twimg.com/profile_images/856537187592155136/zuiUKOym_normal.jpg', profile_image_url_https='https://pbs.twimg.com/profile_images/856537187592155136/zuiUKOym_normal.jpg', profile_link_color='E81C4F', profile_sidebar_border_color='000000', profile_sidebar_fill_color='000000', profile_text_color='000000', profile_use_background_image=False, protected=False, screen_name='scorpionrouge21', statuses_count=8, time_zone='Paris', url=None, utc_offset=7200, verified=False)),\n",
       " Row(contributors=None, coordinates=None, created_at='Wed Apr 26 13:30:49 +0000 2017', display_text_range=[14, 119], entities=Row(hashtags=[], media=None, symbols=[], urls=[], user_mentions=[Row(id=19353240, id_str='19353240', indices=[0, 13], name='1001portails.com', screen_name='1001portails')]), extended_entities=None, extended_tweet=None, favorite_count=0, favorited=False, filter_level='low', geo=None, id=857225456529092611, id_str='857225456529092611', in_reply_to_screen_name='1001portails', in_reply_to_status_id=857223810940116992, in_reply_to_status_id_str='857223810940116992', in_reply_to_user_id=19353240, in_reply_to_user_id_str='19353240', is_quote_status=False, lang='fr', limit=None, place=Row(bounding_box=Row(coordinates=[[[2.53321, 44.340681], [2.53321, 44.377798], [2.606047, 44.377798], [2.606047, 44.340681]]], type='Polygon'), country='France', country_code='FR', full_name='Rodez, France', id='54c06920cb76aa4e', name='Rodez', place_type='city', url='https://api.twitter.com/1.1/geo/id/54c06920cb76aa4e.json'), possibly_sensitive=None, quoted_status=None, quoted_status_id=None, quoted_status_id_str=None, retweet_count=0, retweeted=False, source='<a href=\"http://twitter.com\" rel=\"nofollow\">Twitter Web Client</a>', text='@1001portails Mais ou va ce monde! : Un robot chargé de la sécurité dans la Silicon Valley passé à tabac (par slate.fr)', timestamp_ms='1493213449972', truncated=False, user=Row(contributors_enabled=False, created_at='Sun Jan 18 20:35:56 +0000 2015', default_profile=False, default_profile_image=False, description=\"Rédaction Twitter @mobbee . fr Repérage en Temps réel d'informations. MoBBee / ELP MultiMédia. interactive. veille sur Internet & réseaux sociaux\", favourites_count=44558, follow_request_sent=None, followers_count=1182, following=None, friends_count=4989, geo_enabled=True, id=2984614877, id_str='2984614877', is_translator=False, lang='fr', listed_count=986, location='France', name='MoBBee . fr - actu -', notifications=None, profile_background_color='000000', profile_background_image_url='http://abs.twimg.com/images/themes/theme14/bg.gif', profile_background_image_url_https='https://abs.twimg.com/images/themes/theme14/bg.gif', profile_background_tile=False, profile_banner_url='https://pbs.twimg.com/profile_banners/2984614877/1483950751', profile_image_url='http://pbs.twimg.com/profile_images/744193717725175808/4Jy7RB7h_normal.jpg', profile_image_url_https='https://pbs.twimg.com/profile_images/744193717725175808/4Jy7RB7h_normal.jpg', profile_link_color='1B95E0', profile_sidebar_border_color='000000', profile_sidebar_fill_color='000000', profile_text_color='000000', profile_use_background_image=False, protected=False, screen_name='icp3_zero', statuses_count=146069, time_zone='Europe/Brussels', url='http://www.mobbee.fr/', utc_offset=7200, verified=False))]"
      ]
     },
     "execution_count": 7,
     "metadata": {},
     "output_type": "execute_result"
    }
   ],
   "source": [
    "tweets_df.take(2)"
   ]
  },
  {
   "cell_type": "code",
   "execution_count": 14,
   "metadata": {},
   "outputs": [
    {
     "name": "stdout",
     "output_type": "stream",
     "text": [
      "root\n",
      " |-- contributors: string (nullable = true)\n",
      " |-- coordinates: struct (nullable = true)\n",
      " |    |-- coordinates: array (nullable = true)\n",
      " |    |    |-- element: double (containsNull = true)\n",
      " |    |-- type: string (nullable = true)\n",
      " |-- created_at: string (nullable = true)\n",
      " |-- display_text_range: array (nullable = true)\n",
      " |    |-- element: long (containsNull = true)\n",
      " |-- entities: struct (nullable = true)\n",
      " |    |-- hashtags: array (nullable = true)\n",
      " |    |    |-- element: struct (containsNull = true)\n",
      " |    |    |    |-- indices: array (nullable = true)\n",
      " |    |    |    |    |-- element: long (containsNull = true)\n",
      " |    |    |    |-- text: string (nullable = true)\n",
      " |    |-- media: array (nullable = true)\n",
      " |    |    |-- element: struct (containsNull = true)\n",
      " |    |    |    |-- display_url: string (nullable = true)\n",
      " |    |    |    |-- expanded_url: string (nullable = true)\n",
      " |    |    |    |-- id: long (nullable = true)\n",
      " |    |    |    |-- id_str: string (nullable = true)\n",
      " |    |    |    |-- indices: array (nullable = true)\n",
      " |    |    |    |    |-- element: long (containsNull = true)\n",
      " |    |    |    |-- media_url: string (nullable = true)\n",
      " |    |    |    |-- media_url_https: string (nullable = true)\n",
      " |    |    |    |-- sizes: struct (nullable = true)\n",
      " |    |    |    |    |-- large: struct (nullable = true)\n",
      " |    |    |    |    |    |-- h: long (nullable = true)\n",
      " |    |    |    |    |    |-- resize: string (nullable = true)\n",
      " |    |    |    |    |    |-- w: long (nullable = true)\n",
      " |    |    |    |    |-- medium: struct (nullable = true)\n",
      " |    |    |    |    |    |-- h: long (nullable = true)\n",
      " |    |    |    |    |    |-- resize: string (nullable = true)\n",
      " |    |    |    |    |    |-- w: long (nullable = true)\n",
      " |    |    |    |    |-- small: struct (nullable = true)\n",
      " |    |    |    |    |    |-- h: long (nullable = true)\n",
      " |    |    |    |    |    |-- resize: string (nullable = true)\n",
      " |    |    |    |    |    |-- w: long (nullable = true)\n",
      " |    |    |    |    |-- thumb: struct (nullable = true)\n",
      " |    |    |    |    |    |-- h: long (nullable = true)\n",
      " |    |    |    |    |    |-- resize: string (nullable = true)\n",
      " |    |    |    |    |    |-- w: long (nullable = true)\n",
      " |    |    |    |-- source_status_id: long (nullable = true)\n",
      " |    |    |    |-- source_status_id_str: string (nullable = true)\n",
      " |    |    |    |-- source_user_id: long (nullable = true)\n",
      " |    |    |    |-- source_user_id_str: string (nullable = true)\n",
      " |    |    |    |-- type: string (nullable = true)\n",
      " |    |    |    |-- url: string (nullable = true)\n",
      " |    |-- symbols: array (nullable = true)\n",
      " |    |    |-- element: struct (containsNull = true)\n",
      " |    |    |    |-- indices: array (nullable = true)\n",
      " |    |    |    |    |-- element: long (containsNull = true)\n",
      " |    |    |    |-- text: string (nullable = true)\n",
      " |    |-- urls: array (nullable = true)\n",
      " |    |    |-- element: struct (containsNull = true)\n",
      " |    |    |    |-- display_url: string (nullable = true)\n",
      " |    |    |    |-- expanded_url: string (nullable = true)\n",
      " |    |    |    |-- indices: array (nullable = true)\n",
      " |    |    |    |    |-- element: long (containsNull = true)\n",
      " |    |    |    |-- url: string (nullable = true)\n",
      " |    |-- user_mentions: array (nullable = true)\n",
      " |    |    |-- element: struct (containsNull = true)\n",
      " |    |    |    |-- id: long (nullable = true)\n",
      " |    |    |    |-- id_str: string (nullable = true)\n",
      " |    |    |    |-- indices: array (nullable = true)\n",
      " |    |    |    |    |-- element: long (containsNull = true)\n",
      " |    |    |    |-- name: string (nullable = true)\n",
      " |    |    |    |-- screen_name: string (nullable = true)\n",
      " |-- extended_entities: struct (nullable = true)\n",
      " |    |-- media: array (nullable = true)\n",
      " |    |    |-- element: struct (containsNull = true)\n",
      " |    |    |    |-- display_url: string (nullable = true)\n",
      " |    |    |    |-- expanded_url: string (nullable = true)\n",
      " |    |    |    |-- id: long (nullable = true)\n",
      " |    |    |    |-- id_str: string (nullable = true)\n",
      " |    |    |    |-- indices: array (nullable = true)\n",
      " |    |    |    |    |-- element: long (containsNull = true)\n",
      " |    |    |    |-- media_url: string (nullable = true)\n",
      " |    |    |    |-- media_url_https: string (nullable = true)\n",
      " |    |    |    |-- sizes: struct (nullable = true)\n",
      " |    |    |    |    |-- large: struct (nullable = true)\n",
      " |    |    |    |    |    |-- h: long (nullable = true)\n",
      " |    |    |    |    |    |-- resize: string (nullable = true)\n",
      " |    |    |    |    |    |-- w: long (nullable = true)\n",
      " |    |    |    |    |-- medium: struct (nullable = true)\n",
      " |    |    |    |    |    |-- h: long (nullable = true)\n",
      " |    |    |    |    |    |-- resize: string (nullable = true)\n",
      " |    |    |    |    |    |-- w: long (nullable = true)\n",
      " |    |    |    |    |-- small: struct (nullable = true)\n",
      " |    |    |    |    |    |-- h: long (nullable = true)\n",
      " |    |    |    |    |    |-- resize: string (nullable = true)\n",
      " |    |    |    |    |    |-- w: long (nullable = true)\n",
      " |    |    |    |    |-- thumb: struct (nullable = true)\n",
      " |    |    |    |    |    |-- h: long (nullable = true)\n",
      " |    |    |    |    |    |-- resize: string (nullable = true)\n",
      " |    |    |    |    |    |-- w: long (nullable = true)\n",
      " |    |    |    |-- source_status_id: long (nullable = true)\n",
      " |    |    |    |-- source_status_id_str: string (nullable = true)\n",
      " |    |    |    |-- source_user_id: long (nullable = true)\n",
      " |    |    |    |-- source_user_id_str: string (nullable = true)\n",
      " |    |    |    |-- type: string (nullable = true)\n",
      " |    |    |    |-- url: string (nullable = true)\n",
      " |    |    |    |-- video_info: struct (nullable = true)\n",
      " |    |    |    |    |-- aspect_ratio: array (nullable = true)\n",
      " |    |    |    |    |    |-- element: long (containsNull = true)\n",
      " |    |    |    |    |-- duration_millis: long (nullable = true)\n",
      " |    |    |    |    |-- variants: array (nullable = true)\n",
      " |    |    |    |    |    |-- element: struct (containsNull = true)\n",
      " |    |    |    |    |    |    |-- bitrate: long (nullable = true)\n",
      " |    |    |    |    |    |    |-- content_type: string (nullable = true)\n",
      " |    |    |    |    |    |    |-- url: string (nullable = true)\n",
      " |-- extended_tweet: struct (nullable = true)\n",
      " |    |-- display_text_range: array (nullable = true)\n",
      " |    |    |-- element: long (containsNull = true)\n",
      " |    |-- entities: struct (nullable = true)\n",
      " |    |    |-- hashtags: array (nullable = true)\n",
      " |    |    |    |-- element: struct (containsNull = true)\n",
      " |    |    |    |    |-- indices: array (nullable = true)\n",
      " |    |    |    |    |    |-- element: long (containsNull = true)\n",
      " |    |    |    |    |-- text: string (nullable = true)\n",
      " |    |    |-- media: array (nullable = true)\n",
      " |    |    |    |-- element: struct (containsNull = true)\n",
      " |    |    |    |    |-- display_url: string (nullable = true)\n",
      " |    |    |    |    |-- expanded_url: string (nullable = true)\n",
      " |    |    |    |    |-- id: long (nullable = true)\n",
      " |    |    |    |    |-- id_str: string (nullable = true)\n",
      " |    |    |    |    |-- indices: array (nullable = true)\n",
      " |    |    |    |    |    |-- element: long (containsNull = true)\n",
      " |    |    |    |    |-- media_url: string (nullable = true)\n",
      " |    |    |    |    |-- media_url_https: string (nullable = true)\n",
      " |    |    |    |    |-- sizes: struct (nullable = true)\n",
      " |    |    |    |    |    |-- large: struct (nullable = true)\n",
      " |    |    |    |    |    |    |-- h: long (nullable = true)\n",
      " |    |    |    |    |    |    |-- resize: string (nullable = true)\n",
      " |    |    |    |    |    |    |-- w: long (nullable = true)\n",
      " |    |    |    |    |    |-- medium: struct (nullable = true)\n",
      " |    |    |    |    |    |    |-- h: long (nullable = true)\n",
      " |    |    |    |    |    |    |-- resize: string (nullable = true)\n",
      " |    |    |    |    |    |    |-- w: long (nullable = true)\n",
      " |    |    |    |    |    |-- small: struct (nullable = true)\n",
      " |    |    |    |    |    |    |-- h: long (nullable = true)\n",
      " |    |    |    |    |    |    |-- resize: string (nullable = true)\n",
      " |    |    |    |    |    |    |-- w: long (nullable = true)\n",
      " |    |    |    |    |    |-- thumb: struct (nullable = true)\n",
      " |    |    |    |    |    |    |-- h: long (nullable = true)\n",
      " |    |    |    |    |    |    |-- resize: string (nullable = true)\n",
      " |    |    |    |    |    |    |-- w: long (nullable = true)\n",
      " |    |    |    |    |-- source_status_id: long (nullable = true)\n",
      " |    |    |    |    |-- source_status_id_str: string (nullable = true)\n",
      " |    |    |    |    |-- source_user_id: long (nullable = true)\n",
      " |    |    |    |    |-- source_user_id_str: string (nullable = true)\n",
      " |    |    |    |    |-- type: string (nullable = true)\n",
      " |    |    |    |    |-- url: string (nullable = true)\n",
      " |    |    |    |    |-- video_info: struct (nullable = true)\n",
      " |    |    |    |    |    |-- aspect_ratio: array (nullable = true)\n",
      " |    |    |    |    |    |    |-- element: long (containsNull = true)\n",
      " |    |    |    |    |    |-- duration_millis: long (nullable = true)\n",
      " |    |    |    |    |    |-- variants: array (nullable = true)\n",
      " |    |    |    |    |    |    |-- element: struct (containsNull = true)\n",
      " |    |    |    |    |    |    |    |-- bitrate: long (nullable = true)\n",
      " |    |    |    |    |    |    |    |-- content_type: string (nullable = true)\n",
      " |    |    |    |    |    |    |    |-- url: string (nullable = true)\n",
      " |    |    |-- symbols: array (nullable = true)\n",
      " |    |    |    |-- element: struct (containsNull = true)\n",
      " |    |    |    |    |-- indices: array (nullable = true)\n",
      " |    |    |    |    |    |-- element: long (containsNull = true)\n",
      " |    |    |    |    |-- text: string (nullable = true)\n",
      " |    |    |-- urls: array (nullable = true)\n",
      " |    |    |    |-- element: struct (containsNull = true)\n",
      " |    |    |    |    |-- display_url: string (nullable = true)\n",
      " |    |    |    |    |-- expanded_url: string (nullable = true)\n",
      " |    |    |    |    |-- indices: array (nullable = true)\n",
      " |    |    |    |    |    |-- element: long (containsNull = true)\n",
      " |    |    |    |    |-- url: string (nullable = true)\n",
      " |    |    |-- user_mentions: array (nullable = true)\n",
      " |    |    |    |-- element: struct (containsNull = true)\n",
      " |    |    |    |    |-- id: long (nullable = true)\n",
      " |    |    |    |    |-- id_str: string (nullable = true)\n",
      " |    |    |    |    |-- indices: array (nullable = true)\n",
      " |    |    |    |    |    |-- element: long (containsNull = true)\n",
      " |    |    |    |    |-- name: string (nullable = true)\n",
      " |    |    |    |    |-- screen_name: string (nullable = true)\n",
      " |    |-- extended_entities: struct (nullable = true)\n",
      " |    |    |-- media: array (nullable = true)\n",
      " |    |    |    |-- element: struct (containsNull = true)\n",
      " |    |    |    |    |-- display_url: string (nullable = true)\n",
      " |    |    |    |    |-- expanded_url: string (nullable = true)\n",
      " |    |    |    |    |-- id: long (nullable = true)\n",
      " |    |    |    |    |-- id_str: string (nullable = true)\n",
      " |    |    |    |    |-- indices: array (nullable = true)\n",
      " |    |    |    |    |    |-- element: long (containsNull = true)\n",
      " |    |    |    |    |-- media_url: string (nullable = true)\n",
      " |    |    |    |    |-- media_url_https: string (nullable = true)\n",
      " |    |    |    |    |-- sizes: struct (nullable = true)\n",
      " |    |    |    |    |    |-- large: struct (nullable = true)\n",
      " |    |    |    |    |    |    |-- h: long (nullable = true)\n",
      " |    |    |    |    |    |    |-- resize: string (nullable = true)\n",
      " |    |    |    |    |    |    |-- w: long (nullable = true)\n",
      " |    |    |    |    |    |-- medium: struct (nullable = true)\n",
      " |    |    |    |    |    |    |-- h: long (nullable = true)\n",
      " |    |    |    |    |    |    |-- resize: string (nullable = true)\n",
      " |    |    |    |    |    |    |-- w: long (nullable = true)\n",
      " |    |    |    |    |    |-- small: struct (nullable = true)\n",
      " |    |    |    |    |    |    |-- h: long (nullable = true)\n",
      " |    |    |    |    |    |    |-- resize: string (nullable = true)\n",
      " |    |    |    |    |    |    |-- w: long (nullable = true)\n",
      " |    |    |    |    |    |-- thumb: struct (nullable = true)\n",
      " |    |    |    |    |    |    |-- h: long (nullable = true)\n",
      " |    |    |    |    |    |    |-- resize: string (nullable = true)\n",
      " |    |    |    |    |    |    |-- w: long (nullable = true)\n",
      " |    |    |    |    |-- source_status_id: long (nullable = true)\n",
      " |    |    |    |    |-- source_status_id_str: string (nullable = true)\n",
      " |    |    |    |    |-- source_user_id: long (nullable = true)\n",
      " |    |    |    |    |-- source_user_id_str: string (nullable = true)\n",
      " |    |    |    |    |-- type: string (nullable = true)\n",
      " |    |    |    |    |-- url: string (nullable = true)\n",
      " |    |    |    |    |-- video_info: struct (nullable = true)\n",
      " |    |    |    |    |    |-- aspect_ratio: array (nullable = true)\n",
      " |    |    |    |    |    |    |-- element: long (containsNull = true)\n",
      " |    |    |    |    |    |-- duration_millis: long (nullable = true)\n",
      " |    |    |    |    |    |-- variants: array (nullable = true)\n",
      " |    |    |    |    |    |    |-- element: struct (containsNull = true)\n",
      " |    |    |    |    |    |    |    |-- bitrate: long (nullable = true)\n",
      " |    |    |    |    |    |    |    |-- content_type: string (nullable = true)\n",
      " |    |    |    |    |    |    |    |-- url: string (nullable = true)\n",
      " |    |-- full_text: string (nullable = true)\n",
      " |-- favorite_count: long (nullable = true)\n",
      " |-- favorited: boolean (nullable = true)\n",
      " |-- filter_level: string (nullable = true)\n",
      " |-- geo: struct (nullable = true)\n",
      " |    |-- coordinates: array (nullable = true)\n",
      " |    |    |-- element: double (containsNull = true)\n",
      " |    |-- type: string (nullable = true)\n",
      " |-- id: long (nullable = true)\n",
      " |-- id_str: string (nullable = true)\n",
      " |-- in_reply_to_screen_name: string (nullable = true)\n",
      " |-- in_reply_to_status_id: long (nullable = true)\n",
      " |-- in_reply_to_status_id_str: string (nullable = true)\n",
      " |-- in_reply_to_user_id: long (nullable = true)\n",
      " |-- in_reply_to_user_id_str: string (nullable = true)\n",
      " |-- is_quote_status: boolean (nullable = true)\n",
      " |-- lang: string (nullable = true)\n",
      " |-- limit: struct (nullable = true)\n",
      " |    |-- timestamp_ms: string (nullable = true)\n",
      " |    |-- track: long (nullable = true)\n",
      " |-- place: struct (nullable = true)\n",
      " |    |-- bounding_box: struct (nullable = true)\n",
      " |    |    |-- coordinates: array (nullable = true)\n",
      " |    |    |    |-- element: array (containsNull = true)\n",
      " |    |    |    |    |-- element: array (containsNull = true)\n",
      " |    |    |    |    |    |-- element: double (containsNull = true)\n",
      " |    |    |-- type: string (nullable = true)\n",
      " |    |-- country: string (nullable = true)\n",
      " |    |-- country_code: string (nullable = true)\n",
      " |    |-- full_name: string (nullable = true)\n",
      " |    |-- id: string (nullable = true)\n",
      " |    |-- name: string (nullable = true)\n",
      " |    |-- place_type: string (nullable = true)\n",
      " |    |-- url: string (nullable = true)\n",
      " |-- possibly_sensitive: boolean (nullable = true)\n",
      " |-- quoted_status: struct (nullable = true)\n",
      " |    |-- contributors: string (nullable = true)\n",
      " |    |-- coordinates: struct (nullable = true)\n",
      " |    |    |-- coordinates: array (nullable = true)\n",
      " |    |    |    |-- element: double (containsNull = true)\n",
      " |    |    |-- type: string (nullable = true)\n",
      " |    |-- created_at: string (nullable = true)\n",
      " |    |-- display_text_range: array (nullable = true)\n",
      " |    |    |-- element: long (containsNull = true)\n",
      " |    |-- entities: struct (nullable = true)\n",
      " |    |    |-- hashtags: array (nullable = true)\n",
      " |    |    |    |-- element: struct (containsNull = true)\n",
      " |    |    |    |    |-- indices: array (nullable = true)\n",
      " |    |    |    |    |    |-- element: long (containsNull = true)\n",
      " |    |    |    |    |-- text: string (nullable = true)\n",
      " |    |    |-- media: array (nullable = true)\n",
      " |    |    |    |-- element: struct (containsNull = true)\n",
      " |    |    |    |    |-- display_url: string (nullable = true)\n",
      " |    |    |    |    |-- expanded_url: string (nullable = true)\n",
      " |    |    |    |    |-- id: long (nullable = true)\n",
      " |    |    |    |    |-- id_str: string (nullable = true)\n",
      " |    |    |    |    |-- indices: array (nullable = true)\n",
      " |    |    |    |    |    |-- element: long (containsNull = true)\n",
      " |    |    |    |    |-- media_url: string (nullable = true)\n",
      " |    |    |    |    |-- media_url_https: string (nullable = true)\n",
      " |    |    |    |    |-- sizes: struct (nullable = true)\n",
      " |    |    |    |    |    |-- large: struct (nullable = true)\n",
      " |    |    |    |    |    |    |-- h: long (nullable = true)\n",
      " |    |    |    |    |    |    |-- resize: string (nullable = true)\n",
      " |    |    |    |    |    |    |-- w: long (nullable = true)\n",
      " |    |    |    |    |    |-- medium: struct (nullable = true)\n",
      " |    |    |    |    |    |    |-- h: long (nullable = true)\n",
      " |    |    |    |    |    |    |-- resize: string (nullable = true)\n",
      " |    |    |    |    |    |    |-- w: long (nullable = true)\n",
      " |    |    |    |    |    |-- small: struct (nullable = true)\n",
      " |    |    |    |    |    |    |-- h: long (nullable = true)\n",
      " |    |    |    |    |    |    |-- resize: string (nullable = true)\n",
      " |    |    |    |    |    |    |-- w: long (nullable = true)\n",
      " |    |    |    |    |    |-- thumb: struct (nullable = true)\n",
      " |    |    |    |    |    |    |-- h: long (nullable = true)\n",
      " |    |    |    |    |    |    |-- resize: string (nullable = true)\n",
      " |    |    |    |    |    |    |-- w: long (nullable = true)\n",
      " |    |    |    |    |-- source_status_id: long (nullable = true)\n",
      " |    |    |    |    |-- source_status_id_str: string (nullable = true)\n",
      " |    |    |    |    |-- source_user_id: long (nullable = true)\n",
      " |    |    |    |    |-- source_user_id_str: string (nullable = true)\n",
      " |    |    |    |    |-- type: string (nullable = true)\n",
      " |    |    |    |    |-- url: string (nullable = true)\n",
      " |    |    |-- symbols: array (nullable = true)\n",
      " |    |    |    |-- element: struct (containsNull = true)\n",
      " |    |    |    |    |-- indices: array (nullable = true)\n",
      " |    |    |    |    |    |-- element: long (containsNull = true)\n",
      " |    |    |    |    |-- text: string (nullable = true)\n",
      " |    |    |-- urls: array (nullable = true)\n",
      " |    |    |    |-- element: struct (containsNull = true)\n",
      " |    |    |    |    |-- display_url: string (nullable = true)\n",
      " |    |    |    |    |-- expanded_url: string (nullable = true)\n",
      " |    |    |    |    |-- indices: array (nullable = true)\n",
      " |    |    |    |    |    |-- element: long (containsNull = true)\n",
      " |    |    |    |    |-- url: string (nullable = true)\n",
      " |    |    |-- user_mentions: array (nullable = true)\n",
      " |    |    |    |-- element: struct (containsNull = true)\n",
      " |    |    |    |    |-- id: long (nullable = true)\n",
      " |    |    |    |    |-- id_str: string (nullable = true)\n",
      " |    |    |    |    |-- indices: array (nullable = true)\n",
      " |    |    |    |    |    |-- element: long (containsNull = true)\n",
      " |    |    |    |    |-- name: string (nullable = true)\n",
      " |    |    |    |    |-- screen_name: string (nullable = true)\n",
      " |    |-- extended_entities: struct (nullable = true)\n",
      " |    |    |-- media: array (nullable = true)\n",
      " |    |    |    |-- element: struct (containsNull = true)\n",
      " |    |    |    |    |-- display_url: string (nullable = true)\n",
      " |    |    |    |    |-- expanded_url: string (nullable = true)\n",
      " |    |    |    |    |-- id: long (nullable = true)\n",
      " |    |    |    |    |-- id_str: string (nullable = true)\n",
      " |    |    |    |    |-- indices: array (nullable = true)\n",
      " |    |    |    |    |    |-- element: long (containsNull = true)\n",
      " |    |    |    |    |-- media_url: string (nullable = true)\n",
      " |    |    |    |    |-- media_url_https: string (nullable = true)\n",
      " |    |    |    |    |-- sizes: struct (nullable = true)\n",
      " |    |    |    |    |    |-- large: struct (nullable = true)\n",
      " |    |    |    |    |    |    |-- h: long (nullable = true)\n",
      " |    |    |    |    |    |    |-- resize: string (nullable = true)\n",
      " |    |    |    |    |    |    |-- w: long (nullable = true)\n",
      " |    |    |    |    |    |-- medium: struct (nullable = true)\n",
      " |    |    |    |    |    |    |-- h: long (nullable = true)\n",
      " |    |    |    |    |    |    |-- resize: string (nullable = true)\n",
      " |    |    |    |    |    |    |-- w: long (nullable = true)\n",
      " |    |    |    |    |    |-- small: struct (nullable = true)\n",
      " |    |    |    |    |    |    |-- h: long (nullable = true)\n",
      " |    |    |    |    |    |    |-- resize: string (nullable = true)\n",
      " |    |    |    |    |    |    |-- w: long (nullable = true)\n",
      " |    |    |    |    |    |-- thumb: struct (nullable = true)\n",
      " |    |    |    |    |    |    |-- h: long (nullable = true)\n",
      " |    |    |    |    |    |    |-- resize: string (nullable = true)\n",
      " |    |    |    |    |    |    |-- w: long (nullable = true)\n",
      " |    |    |    |    |-- source_status_id: long (nullable = true)\n",
      " |    |    |    |    |-- source_status_id_str: string (nullable = true)\n",
      " |    |    |    |    |-- source_user_id: long (nullable = true)\n",
      " |    |    |    |    |-- source_user_id_str: string (nullable = true)\n",
      " |    |    |    |    |-- type: string (nullable = true)\n",
      " |    |    |    |    |-- url: string (nullable = true)\n",
      " |    |    |    |    |-- video_info: struct (nullable = true)\n",
      " |    |    |    |    |    |-- aspect_ratio: array (nullable = true)\n",
      " |    |    |    |    |    |    |-- element: long (containsNull = true)\n",
      " |    |    |    |    |    |-- duration_millis: long (nullable = true)\n",
      " |    |    |    |    |    |-- variants: array (nullable = true)\n",
      " |    |    |    |    |    |    |-- element: struct (containsNull = true)\n",
      " |    |    |    |    |    |    |    |-- bitrate: long (nullable = true)\n",
      " |    |    |    |    |    |    |    |-- content_type: string (nullable = true)\n",
      " |    |    |    |    |    |    |    |-- url: string (nullable = true)\n",
      " |    |-- extended_tweet: struct (nullable = true)\n",
      " |    |    |-- display_text_range: array (nullable = true)\n",
      " |    |    |    |-- element: long (containsNull = true)\n",
      " |    |    |-- entities: struct (nullable = true)\n",
      " |    |    |    |-- hashtags: array (nullable = true)\n",
      " |    |    |    |    |-- element: struct (containsNull = true)\n",
      " |    |    |    |    |    |-- indices: array (nullable = true)\n",
      " |    |    |    |    |    |    |-- element: long (containsNull = true)\n",
      " |    |    |    |    |    |-- text: string (nullable = true)\n",
      " |    |    |    |-- media: array (nullable = true)\n",
      " |    |    |    |    |-- element: struct (containsNull = true)\n",
      " |    |    |    |    |    |-- display_url: string (nullable = true)\n",
      " |    |    |    |    |    |-- expanded_url: string (nullable = true)\n",
      " |    |    |    |    |    |-- id: long (nullable = true)\n",
      " |    |    |    |    |    |-- id_str: string (nullable = true)\n",
      " |    |    |    |    |    |-- indices: array (nullable = true)\n",
      " |    |    |    |    |    |    |-- element: long (containsNull = true)\n",
      " |    |    |    |    |    |-- media_url: string (nullable = true)\n",
      " |    |    |    |    |    |-- media_url_https: string (nullable = true)\n",
      " |    |    |    |    |    |-- sizes: struct (nullable = true)\n",
      " |    |    |    |    |    |    |-- large: struct (nullable = true)\n",
      " |    |    |    |    |    |    |    |-- h: long (nullable = true)\n",
      " |    |    |    |    |    |    |    |-- resize: string (nullable = true)\n",
      " |    |    |    |    |    |    |    |-- w: long (nullable = true)\n",
      " |    |    |    |    |    |    |-- medium: struct (nullable = true)\n",
      " |    |    |    |    |    |    |    |-- h: long (nullable = true)\n",
      " |    |    |    |    |    |    |    |-- resize: string (nullable = true)\n",
      " |    |    |    |    |    |    |    |-- w: long (nullable = true)\n",
      " |    |    |    |    |    |    |-- small: struct (nullable = true)\n",
      " |    |    |    |    |    |    |    |-- h: long (nullable = true)\n",
      " |    |    |    |    |    |    |    |-- resize: string (nullable = true)\n",
      " |    |    |    |    |    |    |    |-- w: long (nullable = true)\n",
      " |    |    |    |    |    |    |-- thumb: struct (nullable = true)\n",
      " |    |    |    |    |    |    |    |-- h: long (nullable = true)\n",
      " |    |    |    |    |    |    |    |-- resize: string (nullable = true)\n",
      " |    |    |    |    |    |    |    |-- w: long (nullable = true)\n",
      " |    |    |    |    |    |-- source_status_id: long (nullable = true)\n",
      " |    |    |    |    |    |-- source_status_id_str: string (nullable = true)\n",
      " |    |    |    |    |    |-- source_user_id: long (nullable = true)\n",
      " |    |    |    |    |    |-- source_user_id_str: string (nullable = true)\n",
      " |    |    |    |    |    |-- type: string (nullable = true)\n",
      " |    |    |    |    |    |-- url: string (nullable = true)\n",
      " |    |    |    |    |    |-- video_info: struct (nullable = true)\n",
      " |    |    |    |    |    |    |-- aspect_ratio: array (nullable = true)\n",
      " |    |    |    |    |    |    |    |-- element: long (containsNull = true)\n",
      " |    |    |    |    |    |    |-- duration_millis: long (nullable = true)\n",
      " |    |    |    |    |    |    |-- variants: array (nullable = true)\n",
      " |    |    |    |    |    |    |    |-- element: struct (containsNull = true)\n",
      " |    |    |    |    |    |    |    |    |-- bitrate: long (nullable = true)\n",
      " |    |    |    |    |    |    |    |    |-- content_type: string (nullable = true)\n",
      " |    |    |    |    |    |    |    |    |-- url: string (nullable = true)\n",
      " |    |    |    |-- symbols: array (nullable = true)\n",
      " |    |    |    |    |-- element: string (containsNull = true)\n",
      " |    |    |    |-- urls: array (nullable = true)\n",
      " |    |    |    |    |-- element: struct (containsNull = true)\n",
      " |    |    |    |    |    |-- display_url: string (nullable = true)\n",
      " |    |    |    |    |    |-- expanded_url: string (nullable = true)\n",
      " |    |    |    |    |    |-- indices: array (nullable = true)\n",
      " |    |    |    |    |    |    |-- element: long (containsNull = true)\n",
      " |    |    |    |    |    |-- url: string (nullable = true)\n",
      " |    |    |    |-- user_mentions: array (nullable = true)\n",
      " |    |    |    |    |-- element: struct (containsNull = true)\n",
      " |    |    |    |    |    |-- id: long (nullable = true)\n",
      " |    |    |    |    |    |-- id_str: string (nullable = true)\n",
      " |    |    |    |    |    |-- indices: array (nullable = true)\n",
      " |    |    |    |    |    |    |-- element: long (containsNull = true)\n",
      " |    |    |    |    |    |-- name: string (nullable = true)\n",
      " |    |    |    |    |    |-- screen_name: string (nullable = true)\n",
      " |    |    |-- extended_entities: struct (nullable = true)\n",
      " |    |    |    |-- media: array (nullable = true)\n",
      " |    |    |    |    |-- element: struct (containsNull = true)\n",
      " |    |    |    |    |    |-- display_url: string (nullable = true)\n",
      " |    |    |    |    |    |-- expanded_url: string (nullable = true)\n",
      " |    |    |    |    |    |-- id: long (nullable = true)\n",
      " |    |    |    |    |    |-- id_str: string (nullable = true)\n",
      " |    |    |    |    |    |-- indices: array (nullable = true)\n",
      " |    |    |    |    |    |    |-- element: long (containsNull = true)\n",
      " |    |    |    |    |    |-- media_url: string (nullable = true)\n",
      " |    |    |    |    |    |-- media_url_https: string (nullable = true)\n",
      " |    |    |    |    |    |-- sizes: struct (nullable = true)\n",
      " |    |    |    |    |    |    |-- large: struct (nullable = true)\n",
      " |    |    |    |    |    |    |    |-- h: long (nullable = true)\n",
      " |    |    |    |    |    |    |    |-- resize: string (nullable = true)\n",
      " |    |    |    |    |    |    |    |-- w: long (nullable = true)\n",
      " |    |    |    |    |    |    |-- medium: struct (nullable = true)\n",
      " |    |    |    |    |    |    |    |-- h: long (nullable = true)\n",
      " |    |    |    |    |    |    |    |-- resize: string (nullable = true)\n",
      " |    |    |    |    |    |    |    |-- w: long (nullable = true)\n",
      " |    |    |    |    |    |    |-- small: struct (nullable = true)\n",
      " |    |    |    |    |    |    |    |-- h: long (nullable = true)\n",
      " |    |    |    |    |    |    |    |-- resize: string (nullable = true)\n",
      " |    |    |    |    |    |    |    |-- w: long (nullable = true)\n",
      " |    |    |    |    |    |    |-- thumb: struct (nullable = true)\n",
      " |    |    |    |    |    |    |    |-- h: long (nullable = true)\n",
      " |    |    |    |    |    |    |    |-- resize: string (nullable = true)\n",
      " |    |    |    |    |    |    |    |-- w: long (nullable = true)\n",
      " |    |    |    |    |    |-- source_status_id: long (nullable = true)\n",
      " |    |    |    |    |    |-- source_status_id_str: string (nullable = true)\n",
      " |    |    |    |    |    |-- source_user_id: long (nullable = true)\n",
      " |    |    |    |    |    |-- source_user_id_str: string (nullable = true)\n",
      " |    |    |    |    |    |-- type: string (nullable = true)\n",
      " |    |    |    |    |    |-- url: string (nullable = true)\n",
      " |    |    |    |    |    |-- video_info: struct (nullable = true)\n",
      " |    |    |    |    |    |    |-- aspect_ratio: array (nullable = true)\n",
      " |    |    |    |    |    |    |    |-- element: long (containsNull = true)\n",
      " |    |    |    |    |    |    |-- duration_millis: long (nullable = true)\n",
      " |    |    |    |    |    |    |-- variants: array (nullable = true)\n",
      " |    |    |    |    |    |    |    |-- element: struct (containsNull = true)\n",
      " |    |    |    |    |    |    |    |    |-- bitrate: long (nullable = true)\n",
      " |    |    |    |    |    |    |    |    |-- content_type: string (nullable = true)\n",
      " |    |    |    |    |    |    |    |    |-- url: string (nullable = true)\n",
      " |    |    |-- full_text: string (nullable = true)\n",
      " |    |-- favorite_count: long (nullable = true)\n",
      " |    |-- favorited: boolean (nullable = true)\n",
      " |    |-- filter_level: string (nullable = true)\n",
      " |    |-- geo: struct (nullable = true)\n",
      " |    |    |-- coordinates: array (nullable = true)\n",
      " |    |    |    |-- element: double (containsNull = true)\n",
      " |    |    |-- type: string (nullable = true)\n",
      " |    |-- id: long (nullable = true)\n",
      " |    |-- id_str: string (nullable = true)\n",
      " |    |-- in_reply_to_screen_name: string (nullable = true)\n",
      " |    |-- in_reply_to_status_id: long (nullable = true)\n",
      " |    |-- in_reply_to_status_id_str: string (nullable = true)\n",
      " |    |-- in_reply_to_user_id: long (nullable = true)\n",
      " |    |-- in_reply_to_user_id_str: string (nullable = true)\n",
      " |    |-- is_quote_status: boolean (nullable = true)\n",
      " |    |-- lang: string (nullable = true)\n",
      " |    |-- place: struct (nullable = true)\n",
      " |    |    |-- bounding_box: struct (nullable = true)\n",
      " |    |    |    |-- coordinates: array (nullable = true)\n",
      " |    |    |    |    |-- element: array (containsNull = true)\n",
      " |    |    |    |    |    |-- element: array (containsNull = true)\n",
      " |    |    |    |    |    |    |-- element: double (containsNull = true)\n",
      " |    |    |    |-- type: string (nullable = true)\n",
      " |    |    |-- country: string (nullable = true)\n",
      " |    |    |-- country_code: string (nullable = true)\n",
      " |    |    |-- full_name: string (nullable = true)\n",
      " |    |    |-- id: string (nullable = true)\n",
      " |    |    |-- name: string (nullable = true)\n",
      " |    |    |-- place_type: string (nullable = true)\n",
      " |    |    |-- url: string (nullable = true)\n",
      " |    |-- possibly_sensitive: boolean (nullable = true)\n",
      " |    |-- quoted_status_id: long (nullable = true)\n",
      " |    |-- quoted_status_id_str: string (nullable = true)\n",
      " |    |-- retweet_count: long (nullable = true)\n",
      " |    |-- retweeted: boolean (nullable = true)\n",
      " |    |-- scopes: struct (nullable = true)\n",
      " |    |    |-- followers: boolean (nullable = true)\n",
      " |    |-- source: string (nullable = true)\n",
      " |    |-- text: string (nullable = true)\n",
      " |    |-- truncated: boolean (nullable = true)\n",
      " |    |-- user: struct (nullable = true)\n",
      " |    |    |-- contributors_enabled: boolean (nullable = true)\n",
      " |    |    |-- created_at: string (nullable = true)\n",
      " |    |    |-- default_profile: boolean (nullable = true)\n",
      " |    |    |-- default_profile_image: boolean (nullable = true)\n",
      " |    |    |-- description: string (nullable = true)\n",
      " |    |    |-- favourites_count: long (nullable = true)\n",
      " |    |    |-- follow_request_sent: string (nullable = true)\n",
      " |    |    |-- followers_count: long (nullable = true)\n",
      " |    |    |-- following: string (nullable = true)\n",
      " |    |    |-- friends_count: long (nullable = true)\n",
      " |    |    |-- geo_enabled: boolean (nullable = true)\n",
      " |    |    |-- id: long (nullable = true)\n",
      " |    |    |-- id_str: string (nullable = true)\n",
      " |    |    |-- is_translator: boolean (nullable = true)\n",
      " |    |    |-- lang: string (nullable = true)\n",
      " |    |    |-- listed_count: long (nullable = true)\n",
      " |    |    |-- location: string (nullable = true)\n",
      " |    |    |-- name: string (nullable = true)\n",
      " |    |    |-- notifications: string (nullable = true)\n",
      " |    |    |-- profile_background_color: string (nullable = true)\n",
      " |    |    |-- profile_background_image_url: string (nullable = true)\n",
      " |    |    |-- profile_background_image_url_https: string (nullable = true)\n",
      " |    |    |-- profile_background_tile: boolean (nullable = true)\n",
      " |    |    |-- profile_banner_url: string (nullable = true)\n",
      " |    |    |-- profile_image_url: string (nullable = true)\n",
      " |    |    |-- profile_image_url_https: string (nullable = true)\n",
      " |    |    |-- profile_link_color: string (nullable = true)\n",
      " |    |    |-- profile_sidebar_border_color: string (nullable = true)\n",
      " |    |    |-- profile_sidebar_fill_color: string (nullable = true)\n",
      " |    |    |-- profile_text_color: string (nullable = true)\n",
      " |    |    |-- profile_use_background_image: boolean (nullable = true)\n",
      " |    |    |-- protected: boolean (nullable = true)\n",
      " |    |    |-- screen_name: string (nullable = true)\n",
      " |    |    |-- statuses_count: long (nullable = true)\n",
      " |    |    |-- time_zone: string (nullable = true)\n",
      " |    |    |-- url: string (nullable = true)\n",
      " |    |    |-- utc_offset: long (nullable = true)\n",
      " |    |    |-- verified: boolean (nullable = true)\n",
      " |-- quoted_status_id: long (nullable = true)\n",
      " |-- quoted_status_id_str: string (nullable = true)\n",
      " |-- retweet_count: long (nullable = true)\n",
      " |-- retweeted: boolean (nullable = true)\n",
      " |-- source: string (nullable = true)\n",
      " |-- text: string (nullable = true)\n",
      " |-- timestamp_ms: string (nullable = true)\n",
      " |-- truncated: boolean (nullable = true)\n",
      " |-- user: struct (nullable = true)\n",
      " |    |-- contributors_enabled: boolean (nullable = true)\n",
      " |    |-- created_at: string (nullable = true)\n",
      " |    |-- default_profile: boolean (nullable = true)\n",
      " |    |-- default_profile_image: boolean (nullable = true)\n",
      " |    |-- description: string (nullable = true)\n",
      " |    |-- favourites_count: long (nullable = true)\n",
      " |    |-- follow_request_sent: string (nullable = true)\n",
      " |    |-- followers_count: long (nullable = true)\n",
      " |    |-- following: string (nullable = true)\n",
      " |    |-- friends_count: long (nullable = true)\n",
      " |    |-- geo_enabled: boolean (nullable = true)\n",
      " |    |-- id: long (nullable = true)\n",
      " |    |-- id_str: string (nullable = true)\n",
      " |    |-- is_translator: boolean (nullable = true)\n",
      " |    |-- lang: string (nullable = true)\n",
      " |    |-- listed_count: long (nullable = true)\n",
      " |    |-- location: string (nullable = true)\n",
      " |    |-- name: string (nullable = true)\n",
      " |    |-- notifications: string (nullable = true)\n",
      " |    |-- profile_background_color: string (nullable = true)\n",
      " |    |-- profile_background_image_url: string (nullable = true)\n",
      " |    |-- profile_background_image_url_https: string (nullable = true)\n",
      " |    |-- profile_background_tile: boolean (nullable = true)\n",
      " |    |-- profile_banner_url: string (nullable = true)\n",
      " |    |-- profile_image_url: string (nullable = true)\n",
      " |    |-- profile_image_url_https: string (nullable = true)\n",
      " |    |-- profile_link_color: string (nullable = true)\n",
      " |    |-- profile_sidebar_border_color: string (nullable = true)\n",
      " |    |-- profile_sidebar_fill_color: string (nullable = true)\n",
      " |    |-- profile_text_color: string (nullable = true)\n",
      " |    |-- profile_use_background_image: boolean (nullable = true)\n",
      " |    |-- protected: boolean (nullable = true)\n",
      " |    |-- screen_name: string (nullable = true)\n",
      " |    |-- statuses_count: long (nullable = true)\n",
      " |    |-- time_zone: string (nullable = true)\n",
      " |    |-- url: string (nullable = true)\n",
      " |    |-- utc_offset: long (nullable = true)\n",
      " |    |-- verified: boolean (nullable = true)\n",
      "\n"
     ]
    }
   ],
   "source": [
    "tweets_df.printSchema()"
   ]
  },
  {
   "cell_type": "code",
   "execution_count": null,
   "metadata": {},
   "outputs": [],
   "source": []
  },
  {
   "cell_type": "code",
   "execution_count": null,
   "metadata": {},
   "outputs": [],
   "source": []
  },
  {
   "cell_type": "code",
   "execution_count": null,
   "metadata": {},
   "outputs": [],
   "source": []
  },
  {
   "cell_type": "code",
   "execution_count": 3,
   "metadata": {},
   "outputs": [],
   "source": [
    "import pandas as pd\n",
    "import numpy as np\n"
   ]
  },
  {
   "cell_type": "code",
   "execution_count": null,
   "metadata": {},
   "outputs": [],
   "source": []
  },
  {
   "cell_type": "code",
   "execution_count": 31,
   "metadata": {},
   "outputs": [],
   "source": []
  },
  {
   "cell_type": "code",
   "execution_count": 36,
   "metadata": {},
   "outputs": [],
   "source": []
  },
  {
   "cell_type": "code",
   "execution_count": 58,
   "metadata": {},
   "outputs": [],
   "source": []
  },
  {
   "cell_type": "code",
   "execution_count": 4,
   "metadata": {},
   "outputs": [],
   "source": [
    "sam = tweets_df.sample(.50)"
   ]
  },
  {
   "cell_type": "code",
   "execution_count": 5,
   "metadata": {},
   "outputs": [],
   "source": [
    "sample_count = sam.count()"
   ]
  },
  {
   "cell_type": "code",
   "execution_count": 6,
   "metadata": {},
   "outputs": [
    {
     "name": "stdout",
     "output_type": "stream",
     "text": [
      "21560\n"
     ]
    }
   ],
   "source": [
    "print(sample_count)"
   ]
  },
  {
   "cell_type": "code",
   "execution_count": 7,
   "metadata": {},
   "outputs": [],
   "source": [
    "sam.createOrReplaceTempView(\"tweet_sample1\")"
   ]
  },
  {
   "cell_type": "code",
   "execution_count": 8,
   "metadata": {},
   "outputs": [
    {
     "name": "stdout",
     "output_type": "stream",
     "text": [
      "+------------------+--------------------+--------------------+----------------+\n",
      "|                id|                text|          created_at|favourites_count|\n",
      "+------------------+--------------------+--------------------+----------------+\n",
      "|857529039728381952|Les #Jobs de dema...|Thu Apr 27 09:37:...|          420115|\n",
      "|857563753105289217|Just for once i a...|Thu Apr 27 11:55:...|          354878|\n",
      "|857992085563158533|Salut c est genti...|Fri Apr 28 16:17:...|          279186|\n",
      "+------------------+--------------------+--------------------+----------------+\n",
      "only showing top 3 rows\n",
      "\n"
     ]
    }
   ],
   "source": [
    "result1 = spark.sql('''\n",
    "                SELECT id, text, created_at,tweet_sample1.quoted_status.user.favourites_count\n",
    "                FROM tweet_sample1\n",
    "                ORDER BY tweet_sample1.quoted_status.user.favourites_count DESC\n",
    "''')\n",
    "\n",
    "result1.show(3)"
   ]
  },
  {
   "cell_type": "code",
   "execution_count": 14,
   "metadata": {},
   "outputs": [
    {
     "name": "stdout",
     "output_type": "stream",
     "text": [
      "contributors\n",
      "contributors\n"
     ]
    },
    {
     "ename": "AnalysisException",
     "evalue": "Table or view not found: tweet_sample1; line 3 pos 21;\n'Project [*]\n+- 'UnresolvedRelation [tweet_sample1]\n",
     "output_type": "error",
     "traceback": [
      "\u001b[0;31m---------------------------------------------------------------------------\u001b[0m",
      "\u001b[0;31mAnalysisException\u001b[0m                         Traceback (most recent call last)",
      "\u001b[0;32m<ipython-input-14-4cc04434cf34>\u001b[0m in \u001b[0;36m<module>\u001b[0;34m\u001b[0m\n\u001b[1;32m      5\u001b[0m     \u001b[0mprint\u001b[0m\u001b[0;34m(\u001b[0m\u001b[0ms\u001b[0m\u001b[0;34m)\u001b[0m\u001b[0;34m\u001b[0m\u001b[0;34m\u001b[0m\u001b[0m\n\u001b[1;32m      6\u001b[0m \u001b[0;34m\u001b[0m\u001b[0m\n\u001b[0;32m----> 7\u001b[0;31m     result[i] = spark.sql('''\n\u001b[0m\u001b[1;32m      8\u001b[0m                 \u001b[0mSELECT\u001b[0m \u001b[0;34m*\u001b[0m\u001b[0;34m\u001b[0m\u001b[0;34m\u001b[0m\u001b[0m\n\u001b[1;32m      9\u001b[0m                 \u001b[0mFROM\u001b[0m \u001b[0mtweet_sample1\u001b[0m\u001b[0;34m\u001b[0m\u001b[0;34m\u001b[0m\u001b[0m\n",
      "\u001b[0;32m/usr/local/spark/python/pyspark/sql/session.py\u001b[0m in \u001b[0;36msql\u001b[0;34m(self, sqlQuery)\u001b[0m\n\u001b[1;32m    647\u001b[0m         \u001b[0;34m[\u001b[0m\u001b[0mRow\u001b[0m\u001b[0;34m(\u001b[0m\u001b[0mf1\u001b[0m\u001b[0;34m=\u001b[0m\u001b[0;36m1\u001b[0m\u001b[0;34m,\u001b[0m \u001b[0mf2\u001b[0m\u001b[0;34m=\u001b[0m\u001b[0;34mu'row1'\u001b[0m\u001b[0;34m)\u001b[0m\u001b[0;34m,\u001b[0m \u001b[0mRow\u001b[0m\u001b[0;34m(\u001b[0m\u001b[0mf1\u001b[0m\u001b[0;34m=\u001b[0m\u001b[0;36m2\u001b[0m\u001b[0;34m,\u001b[0m \u001b[0mf2\u001b[0m\u001b[0;34m=\u001b[0m\u001b[0;34mu'row2'\u001b[0m\u001b[0;34m)\u001b[0m\u001b[0;34m,\u001b[0m \u001b[0mRow\u001b[0m\u001b[0;34m(\u001b[0m\u001b[0mf1\u001b[0m\u001b[0;34m=\u001b[0m\u001b[0;36m3\u001b[0m\u001b[0;34m,\u001b[0m \u001b[0mf2\u001b[0m\u001b[0;34m=\u001b[0m\u001b[0;34mu'row3'\u001b[0m\u001b[0;34m)\u001b[0m\u001b[0;34m]\u001b[0m\u001b[0;34m\u001b[0m\u001b[0;34m\u001b[0m\u001b[0m\n\u001b[1;32m    648\u001b[0m         \"\"\"\n\u001b[0;32m--> 649\u001b[0;31m         \u001b[0;32mreturn\u001b[0m \u001b[0mDataFrame\u001b[0m\u001b[0;34m(\u001b[0m\u001b[0mself\u001b[0m\u001b[0;34m.\u001b[0m\u001b[0m_jsparkSession\u001b[0m\u001b[0;34m.\u001b[0m\u001b[0msql\u001b[0m\u001b[0;34m(\u001b[0m\u001b[0msqlQuery\u001b[0m\u001b[0;34m)\u001b[0m\u001b[0;34m,\u001b[0m \u001b[0mself\u001b[0m\u001b[0;34m.\u001b[0m\u001b[0m_wrapped\u001b[0m\u001b[0;34m)\u001b[0m\u001b[0;34m\u001b[0m\u001b[0;34m\u001b[0m\u001b[0m\n\u001b[0m\u001b[1;32m    650\u001b[0m \u001b[0;34m\u001b[0m\u001b[0m\n\u001b[1;32m    651\u001b[0m     \u001b[0;34m@\u001b[0m\u001b[0msince\u001b[0m\u001b[0;34m(\u001b[0m\u001b[0;36m2.0\u001b[0m\u001b[0;34m)\u001b[0m\u001b[0;34m\u001b[0m\u001b[0;34m\u001b[0m\u001b[0m\n",
      "\u001b[0;32m/usr/local/spark/python/lib/py4j-0.10.9-src.zip/py4j/java_gateway.py\u001b[0m in \u001b[0;36m__call__\u001b[0;34m(self, *args)\u001b[0m\n\u001b[1;32m   1302\u001b[0m \u001b[0;34m\u001b[0m\u001b[0m\n\u001b[1;32m   1303\u001b[0m         \u001b[0manswer\u001b[0m \u001b[0;34m=\u001b[0m \u001b[0mself\u001b[0m\u001b[0;34m.\u001b[0m\u001b[0mgateway_client\u001b[0m\u001b[0;34m.\u001b[0m\u001b[0msend_command\u001b[0m\u001b[0;34m(\u001b[0m\u001b[0mcommand\u001b[0m\u001b[0;34m)\u001b[0m\u001b[0;34m\u001b[0m\u001b[0;34m\u001b[0m\u001b[0m\n\u001b[0;32m-> 1304\u001b[0;31m         return_value = get_return_value(\n\u001b[0m\u001b[1;32m   1305\u001b[0m             answer, self.gateway_client, self.target_id, self.name)\n\u001b[1;32m   1306\u001b[0m \u001b[0;34m\u001b[0m\u001b[0m\n",
      "\u001b[0;32m/usr/local/spark/python/pyspark/sql/utils.py\u001b[0m in \u001b[0;36mdeco\u001b[0;34m(*a, **kw)\u001b[0m\n\u001b[1;32m    132\u001b[0m                 \u001b[0;31m# Hide where the exception came from that shows a non-Pythonic\u001b[0m\u001b[0;34m\u001b[0m\u001b[0;34m\u001b[0m\u001b[0;34m\u001b[0m\u001b[0m\n\u001b[1;32m    133\u001b[0m                 \u001b[0;31m# JVM exception message.\u001b[0m\u001b[0;34m\u001b[0m\u001b[0;34m\u001b[0m\u001b[0;34m\u001b[0m\u001b[0m\n\u001b[0;32m--> 134\u001b[0;31m                 \u001b[0mraise_from\u001b[0m\u001b[0;34m(\u001b[0m\u001b[0mconverted\u001b[0m\u001b[0;34m)\u001b[0m\u001b[0;34m\u001b[0m\u001b[0;34m\u001b[0m\u001b[0m\n\u001b[0m\u001b[1;32m    135\u001b[0m             \u001b[0;32melse\u001b[0m\u001b[0;34m:\u001b[0m\u001b[0;34m\u001b[0m\u001b[0;34m\u001b[0m\u001b[0m\n\u001b[1;32m    136\u001b[0m                 \u001b[0;32mraise\u001b[0m\u001b[0;34m\u001b[0m\u001b[0;34m\u001b[0m\u001b[0m\n",
      "\u001b[0;32m/usr/local/spark/python/pyspark/sql/utils.py\u001b[0m in \u001b[0;36mraise_from\u001b[0;34m(e)\u001b[0m\n",
      "\u001b[0;31mAnalysisException\u001b[0m: Table or view not found: tweet_sample1; line 3 pos 21;\n'Project [*]\n+- 'UnresolvedRelation [tweet_sample1]\n"
     ]
    }
   ],
   "source": [
    "for i in range(len(dicta)):\n",
    "    \n",
    "    s=dicta[i] \n",
    "    print(dicta[i])\n",
    "    print(s)\n",
    "    \n",
    "    result[i] = spark.sql('''\n",
    "                SELECT *\n",
    "                FROM tweet_sample1\n",
    "                ''')\n",
    "    \n",
    "    print(result[i].show( ))\n",
    "\n"
   ]
  },
  {
   "cell_type": "code",
   "execution_count": 10,
   "metadata": {},
   "outputs": [
    {
     "data": {
      "text/plain": [
       "Column<b'contributors'>"
      ]
     },
     "execution_count": 10,
     "metadata": {},
     "output_type": "execute_result"
    }
   ],
   "source": [
    "tweets_df[i]"
   ]
  },
  {
   "cell_type": "code",
   "execution_count": 11,
   "metadata": {},
   "outputs": [
    {
     "name": "stdout",
     "output_type": "stream",
     "text": [
      "+------------------+--------------------+---------------+----------------+\n",
      "|                id|                text|    screen_name|favourites_count|\n",
      "+------------------+--------------------+---------------+----------------+\n",
      "|857225456529092611|@1001portails Mai...|      icp3_zero|           44558|\n",
      "|857225468659068929|Il  bégaye comme ...|     Raf_Heddid|            6656|\n",
      "|857225502062505984|I wonder what the...|   harry_chitty|            3949|\n",
      "|857225534178299905|@Maroussiia_ Ahah...|     vltdalbane|           12338|\n",
      "|857225589903810560|j'aurais jms dû a...|         Woroox|            4741|\n",
      "|857225634975809536|Sans déconner, ma...|lucaas_vieira21|            1156|\n",
      "|857225665153826820|@fredericmorea11 ...|      2cevennes|           16457|\n",
      "|857225726839459841|@SportEte \n",
      "Sport'...|       SportEte|              92|\n",
      "|857225749043888128|⚜️ @ Heaven https...|    nonykarlina|              18|\n",
      "|857225837313228800|será q eu to doen...|     bbrutinha_|            4674|\n",
      "|857225872708915201|Landkreis Bautzen...| focus_regional|               0|\n",
      "|857225907047735297|Bon euh l'épisode...|       tainabmn|             777|\n",
      "|857225922390437888|Le camp des \" hum...|   TribunDANTON|           10918|\n",
      "|857225992460546048|@totosafrica_ d'a...|     BaraTogepi|           40205|\n",
      "|857226008952537090|@nimesolympique C...|30_VENIVIDIVICI|              57|\n",
      "|857226023120908288|Y lo hacemos otro...|       Clxireeg|            6101|\n",
      "|857226024748277760|pire des choses q...|    ilonaferrat|            1494|\n",
      "|857226031849144321|@dinoboy89 Here f...|     cmccrudden|           14312|\n",
      "|857226108869259264|@MLP_officiel BRA...|        varetz2|             329|\n",
      "|857226129748496385|#HarryStylesChezC...|         sxlzne|           18936|\n",
      "+------------------+--------------------+---------------+----------------+\n",
      "only showing top 20 rows\n",
      "\n"
     ]
    }
   ],
   "source": [
    "resultq = spark.sql('''\n",
    "                SELECT id, text, user.screen_name, user.favourites_count\n",
    "                FROM tweet_sample1\n",
    "                \n",
    "              \n",
    "''')\n",
    "\n",
    "resultq.show() "
   ]
  },
  {
   "cell_type": "code",
   "execution_count": null,
   "metadata": {},
   "outputs": [],
   "source": []
  },
  {
   "cell_type": "code",
   "execution_count": null,
   "metadata": {},
   "outputs": [],
   "source": []
  },
  {
   "cell_type": "code",
   "execution_count": null,
   "metadata": {},
   "outputs": [],
   "source": []
  },
  {
   "cell_type": "code",
   "execution_count": 133,
   "metadata": {},
   "outputs": [
    {
     "name": "stdout",
     "output_type": "stream",
     "text": [
      "+------------------+--------------------+-------------+\n",
      "|                id|                text|retweet_count|\n",
      "+------------------+--------------------+-------------+\n",
      "|857626515546271744|les nouveautés gr...|            0|\n",
      "|857626537096556545|@Djamst40Sisi @Na...|            0|\n",
      "|857626550614863872|@Lacoussiere De l...|            0|\n",
      "|857626569036021760|Présentation du C...|            0|\n",
      "|857626619317547008|jsp https://t.co/...|            0|\n",
      "|857626823081046018|Mon père https://...|            0|\n",
      "|857626832253923328|https://t.co/baal...|            0|\n",
      "|857626835953307651|@emzregina Merci ...|            0|\n",
      "|857626858283773953|Recu ! Monté ! Te...|            0|\n",
      "|857626860238372864|Pour toutes infor...|            0|\n",
      "|857626871319732225|yes 😏 https://t....|            0|\n",
      "|857626887857766402|.@carolineroux @C...|            0|\n",
      "|857626970556964864|⭐ Casting sous le...|            0|\n",
      "|857626990400208896|Türkiye'ye dair ö...|            0|\n",
      "|857626997270491137|😂 https://t.co/t...|            0|\n",
      "|857627000000974848|@EmmaDoiruae Tu e...|            0|\n",
      "|857627002135883776|@maryromendez @Ru...|            0|\n",
      "|857627014756524033|#BirdParker sur l...|            0|\n",
      "|857627020397879296|Wsh la meuf est c...|            0|\n",
      "|857627036990492673|@lesinrocks Si c'...|            0|\n",
      "+------------------+--------------------+-------------+\n",
      "only showing top 20 rows\n",
      "\n"
     ]
    }
   ],
   "source": [
    "\n",
    "\n",
    "result2 = spark.sql('''\n",
    "                SELECT id, text, tweet_sample1.user.retweet_count\n",
    "                FROM tweet_sample1\n",
    "                ORDER BY tweet_sample1.retweet_count DESC\n",
    "''')\n",
    "\n",
    "result2.show()"
   ]
  },
  {
   "cell_type": "code",
   "execution_count": 135,
   "metadata": {},
   "outputs": [],
   "source": [
    "some_var = result2.toPandas()"
   ]
  },
  {
   "cell_type": "code",
   "execution_count": 138,
   "metadata": {},
   "outputs": [
    {
     "data": {
      "text/plain": [
       "0"
      ]
     },
     "execution_count": 138,
     "metadata": {},
     "output_type": "execute_result"
    }
   ],
   "source": [
    "some_var['retweet_count'].max()"
   ]
  },
  {
   "cell_type": "code",
   "execution_count": null,
   "metadata": {},
   "outputs": [],
   "source": []
  },
  {
   "cell_type": "code",
   "execution_count": 118,
   "metadata": {},
   "outputs": [
    {
     "name": "stdout",
     "output_type": "stream",
     "text": [
      "+------------------+--------------------+--------------------+---------------+\n",
      "|                id|                text|          created_at|followers_count|\n",
      "+------------------+--------------------+--------------------+---------------+\n",
      "|857836007609311232|Moi aussi je veux...|Fri Apr 28 05:56:...|       52334711|\n",
      "|857650207969955840|awwwn, beyond pro...|Thu Apr 27 17:38:...|       51196690|\n",
      "|857261750105845760|$400,000 to speak...|Wed Apr 26 15:55:...|       35588396|\n",
      "|857930276592381954|Bordel de merde h...|Fri Apr 28 12:11:...|       29988889|\n",
      "|857930099689222145|MON DÉCÈS EST OFF...|Fri Apr 28 12:10:...|       29988884|\n",
      "|858110739726446592|Non mais putain o...|Sat Apr 29 00:08:...|       28446210|\n",
      "|857621071125766144|we spend more on ...|Thu Apr 27 15:42:...|       28396890|\n",
      "|857553736205553666|Trump tries to sh...|Thu Apr 27 11:15:...|       28384051|\n",
      "|857244896104775680|Elle a réveillé e...|Wed Apr 26 14:48:...|       22180074|\n",
      "|858090075435020289|La louche de Ronn...|Fri Apr 28 22:46:...|       21028730|\n",
      "|857751804167299072|@_helloem I need ...|Fri Apr 28 00:22:...|       20783345|\n",
      "|857291583812751371|GOD YOU ARE DA GE...|Wed Apr 26 17:53:...|       20782671|\n",
      "|858095010549559300|........ https://...|Fri Apr 28 23:06:...|       14299770|\n",
      "|857937814733901824|omg I aspire to b...|Fri Apr 28 12:41:...|       13489991|\n",
      "|858001483463352320|My laptop? https:...|Fri Apr 28 16:54:...|       13489985|\n",
      "|858071030065225730|@OoLaLa87 Lala yo...|Fri Apr 28 21:30:...|       11637644|\n",
      "|857900953844015105|Happy birthday, @...|Fri Apr 28 10:15:...|       10974839|\n",
      "|857898385273180160|thought gomes was...|Fri Apr 28 10:04:...|       10974800|\n",
      "|858002028974440448|Mdr etre aussi fl...|Fri Apr 28 16:56:...|       10192901|\n",
      "|857344759236620292|Ah heavy legs.. I...|Wed Apr 26 21:24:...|        9758140|\n",
      "+------------------+--------------------+--------------------+---------------+\n",
      "only showing top 20 rows\n",
      "\n"
     ]
    }
   ],
   "source": [
    "result3 = spark.sql('''\n",
    "                SELECT id, text, created_at, tweet_sample1.quoted_status.user.followers_count\n",
    "                FROM tweet_sample1\n",
    "                ORDER BY tweet_sample1.quoted_status.user.followers_count DESC\n",
    "''')\n",
    "\n",
    "result3.show()"
   ]
  },
  {
   "cell_type": "code",
   "execution_count": 126,
   "metadata": {},
   "outputs": [
    {
     "data": {
      "text/plain": [
       "21654"
      ]
     },
     "execution_count": 126,
     "metadata": {},
     "output_type": "execute_result"
    }
   ],
   "source": [
    "result3.count()"
   ]
  },
  {
   "cell_type": "code",
   "execution_count": 89,
   "metadata": {},
   "outputs": [],
   "source": [
    "df3 = result3.toPandas() "
   ]
  },
  {
   "cell_type": "code",
   "execution_count": 119,
   "metadata": {},
   "outputs": [],
   "source": [
    "df5=result3.toPandas()"
   ]
  },
  {
   "cell_type": "code",
   "execution_count": 120,
   "metadata": {},
   "outputs": [],
   "source": [
    "df5.dropna(inplace=True)"
   ]
  },
  {
   "cell_type": "code",
   "execution_count": 121,
   "metadata": {},
   "outputs": [
    {
     "data": {
      "text/html": [
       "<div>\n",
       "<style scoped>\n",
       "    .dataframe tbody tr th:only-of-type {\n",
       "        vertical-align: middle;\n",
       "    }\n",
       "\n",
       "    .dataframe tbody tr th {\n",
       "        vertical-align: top;\n",
       "    }\n",
       "\n",
       "    .dataframe thead th {\n",
       "        text-align: right;\n",
       "    }\n",
       "</style>\n",
       "<table border=\"1\" class=\"dataframe\">\n",
       "  <thead>\n",
       "    <tr style=\"text-align: right;\">\n",
       "      <th></th>\n",
       "      <th>id</th>\n",
       "      <th>text</th>\n",
       "      <th>created_at</th>\n",
       "      <th>followers_count</th>\n",
       "    </tr>\n",
       "  </thead>\n",
       "  <tbody>\n",
       "    <tr>\n",
       "      <th>0</th>\n",
       "      <td>857836007609311232</td>\n",
       "      <td>Moi aussi je veux jouer dans une piscine avec ...</td>\n",
       "      <td>Fri Apr 28 05:56:56 +0000 2017</td>\n",
       "      <td>52334711.0</td>\n",
       "    </tr>\n",
       "    <tr>\n",
       "      <th>1</th>\n",
       "      <td>857650207969955840</td>\n",
       "      <td>awwwn, beyond proud of you Keeks ❤️❤️ https://...</td>\n",
       "      <td>Thu Apr 27 17:38:38 +0000 2017</td>\n",
       "      <td>51196690.0</td>\n",
       "    </tr>\n",
       "  </tbody>\n",
       "</table>\n",
       "</div>"
      ],
      "text/plain": [
       "                   id                                               text  \\\n",
       "0  857836007609311232  Moi aussi je veux jouer dans une piscine avec ...   \n",
       "1  857650207969955840  awwwn, beyond proud of you Keeks ❤️❤️ https://...   \n",
       "\n",
       "                       created_at  followers_count  \n",
       "0  Fri Apr 28 05:56:56 +0000 2017       52334711.0  \n",
       "1  Thu Apr 27 17:38:38 +0000 2017       51196690.0  "
      ]
     },
     "execution_count": 121,
     "metadata": {},
     "output_type": "execute_result"
    }
   ],
   "source": [
    "df5.head(2)"
   ]
  },
  {
   "cell_type": "code",
   "execution_count": 123,
   "metadata": {},
   "outputs": [
    {
     "name": "stdout",
     "output_type": "stream",
     "text": [
      "17318016.0\n",
      "2550388.0\n"
     ]
    }
   ],
   "source": [
    "macron_tweets = df5[df5['text'].str.contains('Macron')]\n",
    "print(macron_tweets['followers_count'].sum())\n",
    "\n",
    "\n",
    "le_pen_tweets = df5[df5['text'].str.contains('Le Pen')]\n",
    "#print(le_pen_tweets)\n",
    "print(le_pen_tweets['followers_count'].sum())\n",
    "\n"
   ]
  },
  {
   "cell_type": "code",
   "execution_count": 124,
   "metadata": {},
   "outputs": [
    {
     "name": "stdout",
     "output_type": "stream",
     "text": [
      "19868404\n"
     ]
    }
   ],
   "source": [
    "print(17318016+2550388)"
   ]
  },
  {
   "cell_type": "code",
   "execution_count": 96,
   "metadata": {},
   "outputs": [
    {
     "name": "stdout",
     "output_type": "stream",
     "text": [
      "                       id                                               text  \\\n",
      "1      858028863116500993  @LePenNON Lui non plus n'a pas envie d'aller v...   \n",
      "157    857996336830066690  @Gerard_Larcher est clair le vote républicain ...   \n",
      "200    857942378698690561  #DangerMacron venant de la part du FM, ça me f...   \n",
      "241    857504967296417792  @EmmanuelMacron @TeamMacron2017 @BFMPolitique ...   \n",
      "264    857960035602903040  Ca ressemble beaucoup à la famille Addams #AuN...   \n",
      "...                   ...                                                ...   \n",
      "21566  858164535248777216  #Macron a fait une erreur en se rendant à #ora...   \n",
      "21587  858170998444761088  @Benedicte1512 @EmmanuelMacron Là, on a le pom...   \n",
      "21621  858179239958515712  @KikiReynaud @slashorz @mwesfreid @Deemee3 @Em...   \n",
      "21626  858180364585533440  @hemicycliste @DanielPilotte @actufr_officiel ...   \n",
      "21635  858181787746545664   @EmmanuelMacron Tu lui arrive pas à la cheville.   \n",
      "\n",
      "                           created_at  friends_count  \n",
      "1      Fri Apr 28 18:43:17 +0000 2017       697477.0  \n",
      "157    Fri Apr 28 16:34:02 +0000 2017         5001.0  \n",
      "200    Fri Apr 28 12:59:37 +0000 2017         4340.0  \n",
      "241    Thu Apr 27 08:01:30 +0000 2017         3303.0  \n",
      "264    Fri Apr 28 14:09:47 +0000 2017         3043.0  \n",
      "...                               ...            ...  \n",
      "21566  Sat Apr 29 03:42:23 +0000 2017            NaN  \n",
      "21587  Sat Apr 29 04:08:04 +0000 2017            NaN  \n",
      "21621  Sat Apr 29 04:40:49 +0000 2017            NaN  \n",
      "21626  Sat Apr 29 04:45:17 +0000 2017            NaN  \n",
      "21635  Sat Apr 29 04:50:57 +0000 2017            NaN  \n",
      "\n",
      "[623 rows x 4 columns]\n"
     ]
    }
   ],
   "source": [
    "print(macron_tweets)"
   ]
  },
  {
   "cell_type": "code",
   "execution_count": 97,
   "metadata": {},
   "outputs": [
    {
     "name": "stdout",
     "output_type": "stream",
     "text": [
      "                       id                                               text  \\\n",
      "375    857246568151474176       Macron 1 - Le Pen 0. https://t.co/6mHTPOo3jy   \n",
      "400    857686491031638016  Le Pen following the Trump playbook https://t....   \n",
      "778    857530670096240640  A trop dénigrer Macron on va se payer Le Pen.....   \n",
      "1043   857242850865684480  Ça pique même plus encore. En ne disant pas Le...   \n",
      "1127   857709735210037250  Ça c'est pour avoir voté Le Pen https://t.co/Z...   \n",
      "...                   ...                                                ...   \n",
      "19368  858041216755265536  #BFMTV\\n\\nLe Pen n' a fait qu' haranguer (sans...   \n",
      "19801  858052141788934146  Le pacte de Dupont-Aignan avec Le Pen: les des...   \n",
      "20345  858065254978383872     \"l'Europe s'est radicalisée\"\\n_ Marine Le Pen.   \n",
      "20538  858070764490289153  Eh je vous jure retirez le droit de vote à ma ...   \n",
      "21431  858110852360278016  Non la France n'est pas fasciste non la France...   \n",
      "\n",
      "                           created_at  friends_count  \n",
      "375    Wed Apr 26 14:54:43 +0000 2017         2018.0  \n",
      "400    Thu Apr 27 20:02:49 +0000 2017         1875.0  \n",
      "778    Thu Apr 27 09:43:38 +0000 2017         1341.0  \n",
      "1043   Wed Apr 26 14:39:57 +0000 2017          903.0  \n",
      "1127   Thu Apr 27 21:35:11 +0000 2017          782.0  \n",
      "...                               ...            ...  \n",
      "19368  Fri Apr 28 19:32:22 +0000 2017            NaN  \n",
      "19801  Fri Apr 28 20:15:47 +0000 2017            NaN  \n",
      "20345  Fri Apr 28 21:07:53 +0000 2017            NaN  \n",
      "20538  Fri Apr 28 21:29:47 +0000 2017            NaN  \n",
      "21431  Sat Apr 29 00:09:04 +0000 2017            NaN  \n",
      "\n",
      "[105 rows x 4 columns]\n"
     ]
    }
   ],
   "source": [
    "print(le_pen_tweets)"
   ]
  },
  {
   "cell_type": "code",
   "execution_count": null,
   "metadata": {},
   "outputs": [],
   "source": []
  },
  {
   "cell_type": "code",
   "execution_count": 127,
   "metadata": {},
   "outputs": [
    {
     "data": {
      "image/png": "[encoded data removed]",
      "text/plain": [
       "<Figure size 1080x720 with 1 Axes>"
      ]
     },
     "metadata": {},
     "output_type": "display_data"
    }
   ],
   "source": [
    "#print(+\n",
    "# Plotting Code for Bar Charts\n",
    "\n",
    "import numpy as np\n",
    "import matplotlib.pyplot as plt\n",
    "plt.style.use('ggplot')\n",
    "plt.rcParams.update({'font.size': 16, 'font.family': 'sans'})\n",
    "\n",
    "fav_counts = pd.DataFrame({'candidate' : ['Macron', 'Le Pen'],\n",
    "                           'Friend_count' : [17318016,2550388]})\n",
    "\n",
    "x = np.arange(len(fav_counts['candidate']))\n",
    "\n",
    "fig, ax = plt.subplots(figsize=(15,10))\n",
    "\n",
    "ax.bar(x,fav_counts['Friend_count'])\n",
    "ax.set_xticks(x)\n",
    "ax.set_xticklabels(fav_counts['candidate'])\n",
    "ax.set_title(\"Mentions of Candidate Among Most Friended Users (Sample Size = 21,694)\")\n",
    "ax.set_xlabel(\"Tweet Including Text of Each French Presidential Candidate (i.e. 'Macron' , 'Le Pen')\")\n",
    "ax.set_ylabel(\"Total num of Twitter Followers in Millions\")\n",
    "plt.tight_layout()\n",
    "plt.show()"
   ]
  },
  {
   "cell_type": "code",
   "execution_count": 116,
   "metadata": {},
   "outputs": [
    {
     "data": {
      "text/plain": [
       "<Figure size 432x288 with 0 Axes>"
      ]
     },
     "metadata": {},
     "output_type": "display_data"
    }
   ],
   "source": [
    "plt.savefig('friends.png', dpi=300, bbox_inches ='tight')"
   ]
  },
  {
   "cell_type": "code",
   "execution_count": 117,
   "metadata": {},
   "outputs": [
    {
     "data": {
      "text/plain": [
       "<Figure size 432x288 with 0 Axes>"
      ]
     },
     "metadata": {},
     "output_type": "display_data"
    }
   ],
   "source": [
    "plt.savefig('try2.png', dpi=300)"
   ]
  },
  {
   "cell_type": "code",
   "execution_count": null,
   "metadata": {},
   "outputs": [],
   "source": []
  }
 ],
 "metadata": {
  "kernelspec": {
   "display_name": "Python 3",
   "language": "python",
   "name": "python3"
  },
  "language_info": {
   "codemirror_mode": {
    "name": "ipython",
    "version": 3
   },
   "file_extension": ".py",
   "mimetype": "text/x-python",
   "name": "python",
   "nbconvert_exporter": "python",
   "pygments_lexer": "ipython3",
   "version": "3.8.6"
  }
 },
 "nbformat": 4,
 "nbformat_minor": 4
}
