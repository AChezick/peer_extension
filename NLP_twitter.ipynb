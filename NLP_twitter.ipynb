{
 "cells": [
  {
   "cell_type": "code",
   "execution_count": 1,
   "metadata": {},
   "outputs": [],
   "source": [
    "#Here to\n",
    "import numpy as np\n",
    "import pandas as pd\n",
    "import scipy.stats as stats\n",
    "\n",
    "import matplotlib.pyplot as plt\n",
    "from matplotlib import gridspec\n",
    "plt.style.use('ggplot')\n",
    "plt.rcParams.update({'font.size': 16})\n",
    "plt.rcParams['savefig.dpi'] = 300\n",
    "plt.rcParams['axes.facecolor'] = 'white'\n",
    "plt.rcParams['grid.color'] = 'lightgrey'\n",
    "# docker start sparkbook\n",
    "import pyspark as ps\n",
    "\n",
    "spark = (ps.sql.SparkSession.builder \n",
    "        .master(\"local[6]\") \n",
    "        .appName(\"case study\") \n",
    "        .getOrCreate()\n",
    "        )\n",
    "sc = spark.sparkContext"
   ]
  },
  {
   "cell_type": "code",
   "execution_count": 33,
   "metadata": {},
   "outputs": [],
   "source": [
    "import nltk\n",
    "from nltk.corpus import stopwords\n",
    "en_stop = ['au', 'aux', 'avec', 'ca' 'ce', 'ces', 'cest', 'dans', 'de', 'des', \n",
    "           'du', 'elle', 'en', 'et', 'eux', 'il', 'ils', 'je', 'la', \n",
    "           'le', 'les', 'leur', 'lui', 'ma', 'mais', 'me', 'même', \n",
    "           'mes', 'moi', 'mon', 'ne', 'nos', 'notre', 'nous', 'on', \n",
    "           'ou', 'par', 'pas', 'pour', 'qu', 'que', 'qui', 'sa', 'se', \n",
    "           'ses', 'son', 'sur', 'ta', 'te', 'tes', 'toi', 'ton', 'tu', \n",
    "           'un', 'une', 'vos', 'votre', 'vous', 'c', 'd', 'j', 'l', 'à', \n",
    "           'm', 'n', 's', 't', 'y', 'été', 'étée', 'étées', 'étés', \n",
    "           'étant', 'étante', 'étants', 'étantes', 'suis', 'es', 'est', \n",
    "           'sommes', 'êtes', 'sont', 'serai', 'seras', 'sera', 'serons', \n",
    "           'serez', 'seront', 'serais', 'serait', 'serions', 'seriez', \n",
    "           'seraient', 'étais', 'était', 'étions', 'étiez', 'étaient', \n",
    "           'fus', 'fut', 'fûmes', 'fûtes', 'furent', 'sois', 'soit', \n",
    "           'soyons', 'soyez', 'soient', 'fusse', 'fusses', 'fût', \n",
    "           'fussions', 'fussiez', 'fussent', 'ayant', 'ayante', \n",
    "           'ayantes', 'ayants', 'eu', 'eue', 'eues', 'eus', 'ai', 'as', \n",
    "           'avons', 'avez', 'ont', 'aurai', 'auras', 'aura', 'aurons', \n",
    "           'aurez', 'auront', 'aurais', 'aurait', 'aurions', 'auriez', \n",
    "           'auraient', 'avais', 'avait', 'avions', 'aviez', 'avaient', \n",
    "           'eut', 'eûmes', 'eûtes', 'eurent', 'aie', 'aies', 'ait', \n",
    "           'ayons', 'ayez', 'aient', 'eusse', 'eusses', 'eût', 'eussions',\n",
    "           'eussiez', 'eussent','i', 'me', 'my', 'myself', 'we', 'our', \n",
    "           'ours', 'ourselves', 'you', \"you're\", \"you've\", \"you'll\", \n",
    "           \"you'd\", 'your', 'yours', 'yourself', 'yourselves', 'he', 'him', \n",
    "           'his', 'himself', 'she', \"she's\", 'her', 'hers', 'herself', 'it', \n",
    "           \"it's\", 'its', 'itself', 'they', 'them', 'their', 'theirs', \n",
    "           'themselves', 'what', 'which', 'who', 'whom', 'this', 'that', \n",
    "           \"that'll\", 'these', 'those', 'am', 'is', 'are', 'was', 'were', \n",
    "           'be', 'been', 'being', 'have', 'has', 'had', 'having', 'do', \n",
    "           'does', 'did', 'doing', 'a', 'an', 'the', 'and', 'but', 'if', \n",
    "           'or', 'because', 'as', 'until', 'while', 'of', 'at', 'by', 'for', \n",
    "           'with', 'about', 'against', 'between', 'into', 'through', 'during',\n",
    "           'before', 'after', 'above', 'below', 'to', 'from', 'up', 'down', 'in', \n",
    "           'out', 'on', 'off', 'over', 'under', 'again', 'further', 'then', \n",
    "           'once', 'here', 'there', 'when', 'where', 'why', 'how', 'all', 'any', \n",
    "           'both', 'each', 'few', 'more', 'most', 'other', 'some', 'such', 'no', \n",
    "           'nor', 'not', 'only', 'own', 'same', 'so', 'than', 'too', 'very', 's', \n",
    "           't', 'can', 'will', 'just', 'don', \"don't\", 'should', \"should've\", 'now',\n",
    "           'd', 'll', 'm', 'o', 're', 've', 'y', 'ain', 'aren', \"aren't\", 'couldn', \n",
    "           \"couldn't\", 'didn', \"didn't\", 'doesn', \"doesn't\", 'hadn', \"hadn't\", \n",
    "           'hasn', \"hasn't\", 'haven', \"haven't\", 'isn', \"isn't\", 'ma', 'mightn', \n",
    "           \"mightn't\", 'mustn', \"mustn't\", 'needn', \"needn't\", 'shan', \"shan't\", \n",
    "           'shouldn', \"shouldn't\", 'wasn', \"wasn't\", 'weren', \"weren't\", 'won',\n",
    "           \"won't\", 'wouldn', \"wouldn't\", 'si']"
   ]
  },
  {
   "cell_type": "code",
   "execution_count": 2,
   "metadata": {},
   "outputs": [],
   "source": [
    "df_json = spark.read.json('../data/french_tweets.json')\n",
    "\n",
    "# create a temporary table for spark.sql queries\n",
    "df_json.createOrReplaceTempView('temp1')"
   ]
  },
  {
   "cell_type": "code",
   "execution_count": 3,
   "metadata": {},
   "outputs": [],
   "source": [
    "nlp_sql1 = spark.sql('''\n",
    "SELECT lang , text,created_at, possibly_sensitive, quoted_status.favorite_count\n",
    "FROM temp1\n",
    "WHERE lang = 'en' and possibly_sensitive = \"True\";\n",
    "''').collect()"
   ]
  },
  {
   "cell_type": "code",
   "execution_count": 30,
   "metadata": {},
   "outputs": [],
   "source": [
    "nlp_sql2 = spark.sql('''\n",
    "SELECT lang , text,created_at, possibly_sensitive, quoted_status.retweet_count\n",
    "FROM temp1\n",
    "WHERE lang = 'en' and possibly_sensitive = \"True\";\n",
    "''').collect()"
   ]
  },
  {
   "cell_type": "code",
   "execution_count": 10,
   "metadata": {},
   "outputs": [
    {
     "data": {
      "text/plain": [
       "[Row(lang='en', text='The Old Blind Guitarist by Pablo Picasso https://t.co/qNxPnN3jI7', created_at='Wed Apr 26 13:34:36 +0000 2017', possibly_sensitive=True, favorite_count=None),\n",
       " Row(lang='en', text='Futur achat 😘 https://t.co/DASepOFASa', created_at='Wed Apr 26 13:34:42 +0000 2017', possibly_sensitive=True, favorite_count=23),\n",
       " Row(lang='en', text='SCH - Comme si https://t.co/vaPuC4bxYp', created_at='Wed Apr 26 14:42:10 +0000 2017', possibly_sensitive=True, favorite_count=None)]"
      ]
     },
     "execution_count": 10,
     "metadata": {},
     "output_type": "execute_result"
    }
   ],
   "source": [
    "#try and search/identify for Porn type text among tweets\n",
    "#among sensitive tweets with lots of re_tweets or likes_ examine more closely \n",
    "###perhaps deep dive among some volume of like_counts or re_tweet count top 5%? \n",
    "nlp_sql1[:3]"
   ]
  },
  {
   "cell_type": "code",
   "execution_count": null,
   "metadata": {},
   "outputs": [],
   "source": [
    "#Create a function to filter symbols from nlp_sql1"
   ]
  },
  {
   "cell_type": "code",
   "execution_count": 65,
   "metadata": {},
   "outputs": [],
   "source": [
    "def clean_text(row):\n",
    "    to_remove = '''!_~^(){}@:'$%\"\\,-[]<>./?;#&*'''''\n",
    "    return ''.join([item for item in row if item not in to_remove]) "
   ]
  },
  {
   "cell_type": "code",
   "execution_count": 109,
   "metadata": {},
   "outputs": [],
   "source": [
    "def get_counts(sql_results):\n",
    "    '''\n",
    "    input = spark list_of_rows\n",
    "    does = cleaning of string\n",
    "    output= favorites,string\n",
    "    '''\n",
    "    countz = {}\n",
    "    for index,item in enumerate(sql_results):\n",
    "        clean =clean_text(item[1])\n",
    "        #print(clean)\n",
    "        favs = str(item[4])\n",
    "        countz[index] = (favs,clean)\n",
    "    #now have a dict of likes/tweet_text\n",
    "    return countz\n",
    "\n",
    "countz = get_counts(sql_results = nlp_sql1)"
   ]
  },
  {
   "cell_type": "code",
   "execution_count": 110,
   "metadata": {},
   "outputs": [
    {
     "name": "stdout",
     "output_type": "stream",
     "text": [
      "('None', 'new Blackedcom trailer with the gorgeous MBlueEyesXxX \\nplease RT and follow me and Markenna httpstcoNGWSjEZap4')\n"
     ]
    }
   ],
   "source": [
    "print(countz[109])\n",
    "\n",
    "def clean_http():\n",
    "    lst = []\n",
    "    for k,v in countz.items():\n",
    "        v_ = v[1].split(' ')\n",
    "        del v_[-1]\n",
    "        for item in v_:\n",
    "            lst.append(item)\n",
    "    return lst\n",
    "no_http = clean_http() "
   ]
  },
  {
   "cell_type": "code",
   "execution_count": 113,
   "metadata": {},
   "outputs": [
    {
     "name": "stdout",
     "output_type": "stream",
     "text": [
      "['Blind', 'Guitarist', 'by', 'Pablo', 'Picasso', 'Futur', 'achat', '😘', 'SCH', '', 'Comme', 'si', 'new', 'PornDoePremium', 'trailer', 'with', 'two', 'perfect']\n"
     ]
    }
   ],
   "source": [
    "print(no_http[2:20])"
   ]
  },
  {
   "cell_type": "code",
   "execution_count": 111,
   "metadata": {},
   "outputs": [
    {
     "name": "stdout",
     "output_type": "stream",
     "text": [
      "602\n"
     ]
    }
   ],
   "source": [
    "# Inputs for below could could be as follows\n",
    "# 202: ('None', 'so i went to a party tonight amp asked for the new shawns music and they played stitches WELL httpstcoWHoGPRcv3s'), \n",
    "# 203: ('50', '5 millions  httpstcoJGyUNbunZV')\n",
    "\n",
    "def somefunct(x):\n",
    "    word_dict = {}\n",
    "    counter =0\n",
    "\n",
    "    for k,v in x.items():\n",
    "        counter += 1\n",
    "        likez = v[0] \n",
    "        v=list(v[1].split(' ')) #convert text in list of words\n",
    "        #example_output for (v) --> ['The', 'Old', 'Blind', 'Guitarist', 'by', 'Pablo', 'Picasso', 'httpstcoqNxPnN3jI7']\n",
    "\n",
    "        for item in v: # for each word in the list \n",
    "            v_ = [item]\n",
    "            boozl =''\n",
    "            boozl = likez\n",
    "            if boozl == 'None': #workaround for dealing with None strings\n",
    "                likez = 'Nope' \n",
    "            if item not in word_dict:  \n",
    "                if boozl != 'Nope':\n",
    "                    word_dict[item] = list([boozl])\n",
    "            else:\n",
    "                if boozl != 'Nope':\n",
    "                    word_dict[item].append( boozl )\n",
    "    return word_dict\n",
    "\n",
    "somefunct_output = somefunct(countz)  \n",
    "\n",
    "acum=0\n",
    "for item in somefunct_output.values():\n",
    "    unravel = len([x for x in item])\n",
    "    acum+=unravel\n",
    "print(acum) #Count of words <with overlap however 4/26 --> or someother time remove overlap ?"
   ]
  },
  {
   "cell_type": "raw",
   "metadata": {},
   "source": [
    "# Trying to make a network: each word is a node, each tweet is a node \n",
    "# connections would be links betweet the tweet and the word\n",
    "# Size of node =  number of likes \n",
    "# color of node indicates  = word or tweet (apply hue based on n_times word is used) Dark == more used, light == less used\n",
    "# Edge thickness degress separation ? "
   ]
  },
  {
   "cell_type": "code",
   "execution_count": 96,
   "metadata": {},
   "outputs": [
    {
     "name": "stdout",
     "output_type": "stream",
     "text": [
      "['The', 'Old', 'Blind', 'Guitarist', 'by', 'Pablo', 'Picasso', 'Futur', 'achat']\n"
     ]
    }
   ],
   "source": [
    "print(no_http[    :9])\n",
    "stringz = ' '.join([i for i in no_http])"
   ]
  },
  {
   "cell_type": "code",
   "execution_count": null,
   "metadata": {},
   "outputs": [],
   "source": []
  },
  {
   "cell_type": "code",
   "execution_count": 78,
   "metadata": {},
   "outputs": [
    {
     "name": "stdout",
     "output_type": "stream",
     "text": [
      "1\n",
      "Downloading emoji data ...\n",
      "... OK (Got response in 0.34 seconds)\n",
      "Writing emoji data to /home/jovyan/.demoji/codes.json ...\n",
      "... OK\n"
     ]
    }
   ],
   "source": [
    "print(len('😘'))\n",
    "import demoji\n",
    "demoji.download_codes()"
   ]
  },
  {
   "cell_type": "raw",
   "metadata": {},
   "source": [
    "# Having challenges removing emoji \n",
    "# consulting Stackoverflow https://stackoverflow.com/questions/33404752/removing-emojis-from-a-string-in-python "
   ]
  },
  {
   "cell_type": "code",
   "execution_count": null,
   "metadata": {},
   "outputs": [],
   "source": []
  },
  {
   "cell_type": "code",
   "execution_count": null,
   "metadata": {},
   "outputs": [],
   "source": []
  },
  {
   "cell_type": "code",
   "execution_count": null,
   "metadata": {},
   "outputs": [],
   "source": []
  },
  {
   "cell_type": "code",
   "execution_count": 102,
   "metadata": {},
   "outputs": [
    {
     "name": "stdout",
     "output_type": "stream",
     "text": [
      "<class 'str'>\n"
     ]
    }
   ],
   "source": [
    "import re\n",
    "import sys\n",
    "\n",
    "# https://stackoverflow.com/a/49146722/330558\n",
    "def remove_emoji(stringz):\n",
    "    emoji_pattern = re.compile(\"[\"\n",
    "                           u\"\\U0001F600-\\U0001F64F\"  # emoticons\n",
    "                           u\"\\U0001F300-\\U0001F5FF\"  # symbols & pictographs\n",
    "                           u\"\\U0001F680-\\U0001F6FF\"  # transport & map symbols\n",
    "                           u\"\\U0001F1E0-\\U0001F1FF\"  # flags (iOS)\n",
    "                           u\"\\U00002702-\\U000027B0\"\n",
    "                           u\"\\U000024C2-\\U0001F251\"\n",
    "                           \"]+\", flags=re.UNICODE)\n",
    "    return emoji_pattern.sub(r'', stringz)\n",
    "\n",
    "if __name__ == '__main__':\n",
    "    \n",
    "    text = remove_emoji(stringz)\n",
    "    print(type(text))"
   ]
  },
  {
   "cell_type": "code",
   "execution_count": null,
   "metadata": {},
   "outputs": [],
   "source": []
  },
  {
   "cell_type": "code",
   "execution_count": 32,
   "metadata": {},
   "outputs": [],
   "source": []
  },
  {
   "cell_type": "code",
   "execution_count": 108,
   "metadata": {},
   "outputs": [
    {
     "data": {
      "image/png": "[encoded data removed]",
      "text/plain": [
       "<Figure size 432x288 with 1 Axes>"
      ]
     },
     "metadata": {},
     "output_type": "display_data"
    }
   ],
   "source": [
    "from wordcloud import WordCloud, STOPWORDS, ImageColorGenerator\n",
    "import matplotlib.pyplot as plt\n",
    "wordcloud = WordCloud(stopwords=fr_stop , \n",
    "                      width=1200, \n",
    "                      height=800, \n",
    "                      min_word_length=2,\n",
    "                      max_words=40).generate(text)\n",
    "plt.imshow(wordcloud, interpolation='bilinear')\n",
    "plt.axis('off')\n",
    "plt.savefig('en_cloud.png')\n",
    "plt.show()"
   ]
  },
  {
   "cell_type": "code",
   "execution_count": null,
   "metadata": {},
   "outputs": [],
   "source": []
  }
 ],
 "metadata": {
  "kernelspec": {
   "display_name": "Python 3",
   "language": "python",
   "name": "python3"
  },
  "language_info": {
   "codemirror_mode": {
    "name": "ipython",
    "version": 3
   },
   "file_extension": ".py",
   "mimetype": "text/x-python",
   "name": "python",
   "nbconvert_exporter": "python",
   "pygments_lexer": "ipython3",
   "version": "3.8.6"
  }
 },
 "nbformat": 4,
 "nbformat_minor": 4
}
